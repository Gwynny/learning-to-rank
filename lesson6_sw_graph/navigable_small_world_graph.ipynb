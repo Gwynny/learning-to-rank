{
 "cells": [
  {
   "cell_type": "code",
   "execution_count": 1,
   "id": "7e442c9b",
   "metadata": {},
   "outputs": [],
   "source": [
    "from collections import OrderedDict, defaultdict\n",
    "from typing import Callable, Tuple, Dict, List\n",
    "\n",
    "import numpy as np\n",
    "from tqdm.auto import tqdm"
   ]
  },
  {
   "cell_type": "code",
   "execution_count": 68,
   "id": "e4a30272",
   "metadata": {},
   "outputs": [],
   "source": [
    "# pointA: (1, D); documents: (N, D)\n",
    "def distance(pointA: np.ndarray, documents: np.ndarray) -> np.ndarray:\n",
    "    return np.linalg.norm(pointA - documents, axis=1).reshape(-1, 1)"
   ]
  },
  {
   "cell_type": "code",
   "execution_count": 69,
   "id": "1ec96de8",
   "metadata": {},
   "outputs": [],
   "source": [
    "pointA = np.random.rand(1, 3)\n",
    "documents = np.random.rand(10, 3)"
   ]
  },
  {
   "cell_type": "code",
   "execution_count": 70,
   "id": "489aa5ad",
   "metadata": {},
   "outputs": [],
   "source": [
    "dist = distance(pointA, documents)"
   ]
  },
  {
   "cell_type": "code",
   "execution_count": 71,
   "id": "cfc0b1ef",
   "metadata": {},
   "outputs": [
    {
     "data": {
      "text/plain": [
       "(10, 1)"
      ]
     },
     "execution_count": 71,
     "metadata": {},
     "output_type": "execute_result"
    }
   ],
   "source": [
    "dist.shape"
   ]
  },
  {
   "cell_type": "code",
   "execution_count": 6,
   "id": "35562b57",
   "metadata": {},
   "outputs": [
    {
     "data": {
      "text/plain": [
       "array([[0.92746416],\n",
       "       [0.81935806],\n",
       "       [0.74958029],\n",
       "       [0.68186471],\n",
       "       [1.1651381 ],\n",
       "       [0.73913866],\n",
       "       [1.10971363],\n",
       "       [0.83560655],\n",
       "       [1.08783558],\n",
       "       [0.77737634]])"
      ]
     },
     "execution_count": 6,
     "metadata": {},
     "output_type": "execute_result"
    }
   ],
   "source": [
    "dist"
   ]
  },
  {
   "cell_type": "code",
   "execution_count": 7,
   "id": "f513343a",
   "metadata": {},
   "outputs": [
    {
     "data": {
      "text/plain": [
       "array([[3],\n",
       "       [5],\n",
       "       [2],\n",
       "       [9],\n",
       "       [1],\n",
       "       [7],\n",
       "       [0],\n",
       "       [8],\n",
       "       [6],\n",
       "       [4]], dtype=int64)"
      ]
     },
     "execution_count": 7,
     "metadata": {},
     "output_type": "execute_result"
    }
   ],
   "source": [
    "np.argsort(dist, axis=0)"
   ]
  },
  {
   "cell_type": "code",
   "execution_count": 8,
   "id": "248ca017",
   "metadata": {},
   "outputs": [
    {
     "data": {
      "text/plain": [
       "array([[[0.68186471]],\n",
       "\n",
       "       [[0.73913866]],\n",
       "\n",
       "       [[0.74958029]],\n",
       "\n",
       "       [[0.77737634]],\n",
       "\n",
       "       [[0.81935806]],\n",
       "\n",
       "       [[0.83560655]],\n",
       "\n",
       "       [[0.92746416]],\n",
       "\n",
       "       [[1.08783558]],\n",
       "\n",
       "       [[1.10971363]],\n",
       "\n",
       "       [[1.1651381 ]]])"
      ]
     },
     "execution_count": 8,
     "metadata": {},
     "output_type": "execute_result"
    }
   ],
   "source": [
    "dist[np.argsort(dist, axis=0)]"
   ]
  },
  {
   "cell_type": "code",
   "execution_count": 9,
   "id": "3e2d59a6",
   "metadata": {},
   "outputs": [
    {
     "data": {
      "text/plain": [
       "array([[7],\n",
       "       [0],\n",
       "       [8],\n",
       "       [6],\n",
       "       [4]], dtype=int64)"
      ]
     },
     "execution_count": 9,
     "metadata": {},
     "output_type": "execute_result"
    }
   ],
   "source": [
    "np.argsort(dist, axis=0)[-5:]"
   ]
  },
  {
   "cell_type": "code",
   "execution_count": 10,
   "id": "1981e4a5",
   "metadata": {},
   "outputs": [],
   "source": [
    "a = np.argsort(dist, axis=0).reshape(-1,)[:5]"
   ]
  },
  {
   "cell_type": "code",
   "execution_count": 11,
   "id": "0f503e9d",
   "metadata": {},
   "outputs": [
    {
     "data": {
      "text/plain": [
       "array([3, 2], dtype=int64)"
      ]
     },
     "execution_count": 11,
     "metadata": {},
     "output_type": "execute_result"
    }
   ],
   "source": [
    "np.random.choice(a, size=2, replace=False)"
   ]
  },
  {
   "cell_type": "code",
   "execution_count": 12,
   "id": "dc100908",
   "metadata": {},
   "outputs": [
    {
     "data": {
      "text/plain": [
       "{0: 1}"
      ]
     },
     "execution_count": 12,
     "metadata": {},
     "output_type": "execute_result"
    }
   ],
   "source": [
    "{0: 1}"
   ]
  },
  {
   "cell_type": "code",
   "execution_count": 13,
   "id": "e9f91013",
   "metadata": {},
   "outputs": [
    {
     "data": {
      "text/plain": [
       "[0, 1, 2]"
      ]
     },
     "execution_count": 13,
     "metadata": {},
     "output_type": "execute_result"
    }
   ],
   "source": [
    "a = [0, 1]\n",
    "a.extend([2])\n",
    "a"
   ]
  },
  {
   "cell_type": "code",
   "execution_count": 14,
   "id": "0e57bd19",
   "metadata": {},
   "outputs": [
    {
     "name": "stdout",
     "output_type": "stream",
     "text": [
      "None\n"
     ]
    }
   ],
   "source": [
    "print([0, 1].extend([2]))"
   ]
  },
  {
   "cell_type": "code",
   "execution_count": 180,
   "id": "56048dd9",
   "metadata": {},
   "outputs": [],
   "source": [
    "def create_sw_graph(\n",
    "        data: np.ndarray,\n",
    "        num_candidates_for_choice_long: int = 10,\n",
    "        num_edges_long: int = 5,\n",
    "        num_candidates_for_choice_short: int = 10,\n",
    "        num_edges_short: int = 5,\n",
    "        use_sampling: bool = False,\n",
    "        sampling_share: float = 0.05,\n",
    "        dist_f: Callable = distance\n",
    "        ) -> Dict[int, List[int]]:\n",
    "    \"\"\"\n",
    "    creates small world graph with closest and furthest points\n",
    "    :param data:\n",
    "    :param num_candidates_for_choice_long: num furthest points from cur point\n",
    "    :param num_edges_long: num sample from previous candidates\n",
    "    :param num_candidates_for_choice_short: num closest points to cur point\n",
    "    :param num_edges_short:\n",
    "    :param use_sampling: if we have too much data we can use sampling\n",
    "    :param sampling_share: proportion of data to sample\n",
    "    :param dist_f: function for distance (euclidean)\n",
    "    :return: sw graph\n",
    "    \"\"\"\n",
    "    # my code here\n",
    "    graph = {}\n",
    "    num_points = data.shape[0]\n",
    "    for i, point in enumerate(data):\n",
    "        if not use_sampling:\n",
    "            all_dists = dist_f(data[i, :], data)\n",
    "            argsorted = np.argsort(all_dists.reshape(1, -1))[0][1:]\n",
    "        else:\n",
    "            sample_size = int(num_points * sampling_share)\n",
    "            choiced = np.random.choice(\n",
    "                list(range(num_points)), size=sample_size, replace=False)\n",
    "            part_dists = dist_f(data[i, :], data[choiced, :])\n",
    "            argsorted = choiced[np.argsort(part_dists.reshape(1, -1))[0][1:]]\n",
    "        \n",
    "        candidates_for_point = []\n",
    "        further_points = argsorted[-num_candidates_for_choice_long:]\n",
    "        further_points = np.random.choice(further_points, size=num_edges_long,\n",
    "                                          replace=False)\n",
    "        candidates_for_point.extend(list(further_points))\n",
    "\n",
    "        closer_points = argsorted[:num_candidates_for_choice_short]\n",
    "        closer_points = np.random.choice(closer_points, size=num_edges_short,\n",
    "                                         replace=False)\n",
    "        candidates_for_point.extend(list(closer_points))\n",
    "        graph[i] = candidates_for_point\n",
    "    return graph"
   ]
  },
  {
   "cell_type": "code",
   "execution_count": 181,
   "id": "61737361",
   "metadata": {},
   "outputs": [],
   "source": [
    "documents = np.random.rand(10000, 5)"
   ]
  },
  {
   "cell_type": "code",
   "execution_count": 182,
   "id": "49fa7546",
   "metadata": {},
   "outputs": [
    {
     "data": {
      "text/plain": [
       "(1, 5)"
      ]
     },
     "execution_count": 182,
     "metadata": {},
     "output_type": "execute_result"
    }
   ],
   "source": [
    "documents[0].reshape(1, -1).shape"
   ]
  },
  {
   "cell_type": "code",
   "execution_count": 183,
   "id": "ab2a33f5",
   "metadata": {},
   "outputs": [],
   "source": [
    "graph = create_sw_graph(documents)"
   ]
  },
  {
   "cell_type": "code",
   "execution_count": 184,
   "id": "412582e1",
   "metadata": {},
   "outputs": [
    {
     "data": {
      "text/plain": [
       "[9904, 8448, 9091, 5774, 5938, 3370, 6304, 6286, 367, 4553]"
      ]
     },
     "execution_count": 184,
     "metadata": {},
     "output_type": "execute_result"
    }
   ],
   "source": [
    "graph[0]"
   ]
  },
  {
   "cell_type": "code",
   "execution_count": 186,
   "id": "64ebdb9f",
   "metadata": {},
   "outputs": [
    {
     "data": {
      "text/plain": [
       "(1.441386070731166, 0.1778228617595581)"
      ]
     },
     "execution_count": 186,
     "metadata": {},
     "output_type": "execute_result"
    }
   ],
   "source": [
    "# check graph. First five docs are most distant ones\n",
    "# last 5 are most closest ones. Everything is ok\n",
    "np.linalg.norm(documents[0] - documents[9904]), np.linalg.norm(documents[0] - documents[4553]),"
   ]
  },
  {
   "cell_type": "code",
   "execution_count": 228,
   "id": "591f14cf",
   "metadata": {},
   "outputs": [],
   "source": [
    "def calc_dist_and_upd(all_visited_points: dict,\n",
    "                      query_point: np.ndarray,\n",
    "                      all_documents: np.ndarray,\n",
    "                      point_idx: int,\n",
    "                      dist_f: Callable\n",
    "                      ) -> Tuple[float, bool]:\n",
    "    \"\"\"\n",
    "    calculate distance between query point and specific point from all docs\n",
    "    :param all_visited_points: if spec point in visited we will not calculate\n",
    "    :param query_point:\n",
    "    :param all_documents:\n",
    "    :param point_idx:\n",
    "    :param dist_f:\n",
    "    :return: distance and is_visited flag\n",
    "    \"\"\"\n",
    "    if point_idx in all_visited_points:\n",
    "        return all_visited_points[point_idx], True\n",
    "    cur_dist = \\\n",
    "        dist_f(query_point, all_documents[point_idx, :].reshape(1, -1))[0][0]\n",
    "    all_visited_points[point_idx] = cur_dist\n",
    "    return cur_dist, False\n",
    "\n",
    "\n",
    "def nsw(query_point: np.ndarray,\n",
    "        all_documents: np.ndarray,\n",
    "        graph_edges: Dict,\n",
    "        search_k: int = 10, num_start_points: int = 5,\n",
    "        dist_f: Callable = distance) -> np.ndarray:\n",
    "    \"\"\"\n",
    "    do navigable search with help of small world graph\n",
    "    :param query_point: input for which we want to find closest documents\n",
    "    :param all_documents: all available data\n",
    "    :param graph_edges: small world graph\n",
    "    :param search_k: num of output documents\n",
    "    :param num_start_points: 5 init point to start a search through graph\n",
    "    :param dist_f: eucledian distance\n",
    "    :return: approximate top k closest docs\n",
    "    \"\"\"\n",
    "    all_visited_points = {}\n",
    "    num_started_points = 0\n",
    "    while (num_started_points < num_start_points) or \\\n",
    "            (len(all_visited_points) < search_k):\n",
    "        cur_point_idx = np.random.randint(0, all_documents.shape[0] - 1)\n",
    "        cur_dist, is_visited = calc_dist_and_upd(\n",
    "            all_visited_points, query_point, all_documents,\n",
    "            cur_point_idx, dist_f)\n",
    "        if is_visited:\n",
    "            continue\n",
    "\n",
    "        while True:\n",
    "            min_dist = cur_dist\n",
    "            choiced_cand = cur_point_idx\n",
    "\n",
    "            cands_idxs = graph_edges[cur_point_idx]\n",
    "            visited_before_cands = {cur_point_idx}\n",
    "            for cand_idx in cands_idxs:\n",
    "                tmp_d, is_visited = calc_dist_and_upd(\n",
    "                    all_visited_points, query_point, all_documents,\n",
    "                    cand_idx, dist_f)\n",
    "                if tmp_d < min_dist:\n",
    "                    min_dist = tmp_d\n",
    "                    choiced_cand = cand_idx\n",
    "                if is_visited:\n",
    "                    visited_before_cands.add(cand_idx)\n",
    "\n",
    "            if choiced_cand in visited_before_cands:\n",
    "                break\n",
    "            cur_dist = min_dist\n",
    "            cur_point_idx = choiced_cand\n",
    "\n",
    "        num_started_points += 1\n",
    "\n",
    "    best_idxs = np.argsort(list(all_visited_points.values()))[:search_k]\n",
    "    final_idx = np.array(list(all_visited_points.keys()))[best_idxs]\n",
    "    return final_idx"
   ]
  },
  {
   "cell_type": "code",
   "execution_count": 229,
   "id": "27703f2a",
   "metadata": {},
   "outputs": [],
   "source": [
    "query = np.array([1., 1., 1., 1., 1.])"
   ]
  },
  {
   "cell_type": "code",
   "execution_count": 230,
   "id": "5e8d8aae",
   "metadata": {},
   "outputs": [],
   "source": [
    "documents = np.random.rand(10000, 5)"
   ]
  },
  {
   "cell_type": "code",
   "execution_count": 231,
   "id": "b5adcd43",
   "metadata": {},
   "outputs": [],
   "source": [
    "candidates = nsw(query, documents, graph)"
   ]
  },
  {
   "cell_type": "code",
   "execution_count": 232,
   "id": "2f81eb97",
   "metadata": {},
   "outputs": [
    {
     "data": {
      "text/plain": [
       "(5,)"
      ]
     },
     "execution_count": 232,
     "metadata": {},
     "output_type": "execute_result"
    }
   ],
   "source": [
    "documents[56].shape"
   ]
  },
  {
   "cell_type": "code",
   "execution_count": 233,
   "id": "14eece37",
   "metadata": {},
   "outputs": [
    {
     "data": {
      "text/plain": [
       "array([2755, 8470, 3277, 3983,  363, 3112, 1509,  147, 2493, 5103],\n",
       "      dtype=int64)"
      ]
     },
     "execution_count": 233,
     "metadata": {},
     "output_type": "execute_result"
    }
   ],
   "source": [
    "candidates"
   ]
  },
  {
   "cell_type": "code",
   "execution_count": 250,
   "id": "24da5506",
   "metadata": {},
   "outputs": [
    {
     "data": {
      "text/plain": [
       "(0.5181845590310753, 1.0078735656227376)"
      ]
     },
     "execution_count": 250,
     "metadata": {},
     "output_type": "execute_result"
    }
   ],
   "source": [
    "np.linalg.norm(query - documents[2755]), np.linalg.norm(query - documents[5103])"
   ]
  },
  {
   "cell_type": "code",
   "execution_count": 235,
   "id": "8789324a",
   "metadata": {},
   "outputs": [
    {
     "data": {
      "text/plain": [
       "array([0.98787889, 0.7856561 , 0.77278463, 0.65625646, 0.77056905])"
      ]
     },
     "execution_count": 235,
     "metadata": {},
     "output_type": "execute_result"
    }
   ],
   "source": [
    "documents[2755]"
   ]
  },
  {
   "cell_type": "code",
   "execution_count": 236,
   "id": "fbf48207",
   "metadata": {},
   "outputs": [],
   "source": [
    "all_dists = distance(query, documents)\n",
    "argsorted = np.argsort(all_dists.reshape(1, -1))[0][1:]"
   ]
  },
  {
   "cell_type": "code",
   "execution_count": 237,
   "id": "79e9c91e",
   "metadata": {},
   "outputs": [
    {
     "data": {
      "text/plain": [
       "array([7818, 1262, 9029, 2149, 7929, 4738, 8359, 1001, 9460, 2115, 7413,\n",
       "       1205, 9907, 4175, 3855,  173, 1810, 8767, 8897, 4555], dtype=int64)"
      ]
     },
     "execution_count": 237,
     "metadata": {},
     "output_type": "execute_result"
    }
   ],
   "source": [
    "argsorted[:20]"
   ]
  },
  {
   "cell_type": "code",
   "execution_count": 253,
   "id": "e069dcff",
   "metadata": {},
   "outputs": [
    {
     "data": {
      "text/plain": [
       "0.24574162882912523"
      ]
     },
     "execution_count": 253,
     "metadata": {},
     "output_type": "execute_result"
    }
   ],
   "source": [
    "# as you can see 5 start points is too small to find most closest docs\n",
    "np.linalg.norm(query - documents[7818])"
   ]
  },
  {
   "cell_type": "code",
   "execution_count": 241,
   "id": "cefcbb04",
   "metadata": {},
   "outputs": [
    {
     "data": {
      "text/plain": [
       "array([0.43784773, 0.05931726, 0.00223698, 0.51774528, 0.05959232])"
      ]
     },
     "execution_count": 241,
     "metadata": {},
     "output_type": "execute_result"
    }
   ],
   "source": [
    "documents[9503]"
   ]
  },
  {
   "cell_type": "code",
   "execution_count": 246,
   "id": "d332e766",
   "metadata": {},
   "outputs": [],
   "source": [
    "candidates = nsw(query, documents, graph, num_start_points=30)"
   ]
  },
  {
   "cell_type": "code",
   "execution_count": 247,
   "id": "1296f920",
   "metadata": {},
   "outputs": [
    {
     "data": {
      "text/plain": [
       "array([3153, 9761, 8146, 4460, 9591, 2012, 2487, 3651, 6840, 7579],\n",
       "      dtype=int64)"
      ]
     },
     "execution_count": 247,
     "metadata": {},
     "output_type": "execute_result"
    }
   ],
   "source": [
    "candidates"
   ]
  },
  {
   "cell_type": "code",
   "execution_count": 252,
   "id": "49b8b984",
   "metadata": {
    "scrolled": true
   },
   "outputs": [
    {
     "data": {
      "text/plain": [
       "(0.41613454891452917, 0.6182968005997975)"
      ]
     },
     "execution_count": 252,
     "metadata": {},
     "output_type": "execute_result"
    }
   ],
   "source": [
    "# it's better now\n",
    "np.linalg.norm(query - documents[3153]), np.linalg.norm(query - documents[7579])"
   ]
  },
  {
   "cell_type": "code",
   "execution_count": null,
   "id": "c2a5bd69",
   "metadata": {},
   "outputs": [],
   "source": []
  }
 ],
 "metadata": {
  "kernelspec": {
   "display_name": "Python 3 (ipykernel)",
   "language": "python",
   "name": "python3"
  },
  "language_info": {
   "codemirror_mode": {
    "name": "ipython",
    "version": 3
   },
   "file_extension": ".py",
   "mimetype": "text/x-python",
   "name": "python",
   "nbconvert_exporter": "python",
   "pygments_lexer": "ipython3",
   "version": "3.9.7"
  }
 },
 "nbformat": 4,
 "nbformat_minor": 5
}
