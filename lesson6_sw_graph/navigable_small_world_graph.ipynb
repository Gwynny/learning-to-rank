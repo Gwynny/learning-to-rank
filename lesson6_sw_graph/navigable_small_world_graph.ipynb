{
 "cells": [
  {
   "cell_type": "code",
   "execution_count": 1,
   "id": "7e442c9b",
   "metadata": {},
   "outputs": [],
   "source": [
    "from collections import OrderedDict, defaultdict\n",
    "from typing import Callable, Tuple, Dict, List\n",
    "\n",
    "import numpy as np\n",
    "from tqdm.auto import tqdm"
   ]
  },
  {
   "cell_type": "code",
   "execution_count": 2,
   "id": "e4a30272",
   "metadata": {},
   "outputs": [],
   "source": [
    "# pointA: (1, D); documents: (N, D)\n",
    "def distance(pointA: np.ndarray, documents: np.ndarray) -> np.ndarray:\n",
    "    return np.linalg.norm(pointA - documents, axis=1).reshape(-1, 1)"
   ]
  },
  {
   "cell_type": "code",
   "execution_count": 3,
   "id": "1ec96de8",
   "metadata": {},
   "outputs": [],
   "source": [
    "pointA = np.random.rand(1, 3)\n",
    "documents = np.random.rand(10, 3)"
   ]
  },
  {
   "cell_type": "code",
   "execution_count": 4,
   "id": "489aa5ad",
   "metadata": {},
   "outputs": [],
   "source": [
    "dist = distance(pointA, documents)"
   ]
  },
  {
   "cell_type": "code",
   "execution_count": 5,
   "id": "cfc0b1ef",
   "metadata": {},
   "outputs": [
    {
     "data": {
      "text/plain": [
       "(10, 1)"
      ]
     },
     "execution_count": 5,
     "metadata": {},
     "output_type": "execute_result"
    }
   ],
   "source": [
    "dist.shape"
   ]
  },
  {
   "cell_type": "code",
   "execution_count": 6,
   "id": "35562b57",
   "metadata": {},
   "outputs": [
    {
     "data": {
      "text/plain": [
       "array([[0.92746416],\n",
       "       [0.81935806],\n",
       "       [0.74958029],\n",
       "       [0.68186471],\n",
       "       [1.1651381 ],\n",
       "       [0.73913866],\n",
       "       [1.10971363],\n",
       "       [0.83560655],\n",
       "       [1.08783558],\n",
       "       [0.77737634]])"
      ]
     },
     "execution_count": 6,
     "metadata": {},
     "output_type": "execute_result"
    }
   ],
   "source": [
    "dist"
   ]
  },
  {
   "cell_type": "code",
   "execution_count": 7,
   "id": "f513343a",
   "metadata": {},
   "outputs": [
    {
     "data": {
      "text/plain": [
       "array([[3],\n",
       "       [5],\n",
       "       [2],\n",
       "       [9],\n",
       "       [1],\n",
       "       [7],\n",
       "       [0],\n",
       "       [8],\n",
       "       [6],\n",
       "       [4]], dtype=int64)"
      ]
     },
     "execution_count": 7,
     "metadata": {},
     "output_type": "execute_result"
    }
   ],
   "source": [
    "np.argsort(dist, axis=0)"
   ]
  },
  {
   "cell_type": "code",
   "execution_count": 8,
   "id": "248ca017",
   "metadata": {},
   "outputs": [
    {
     "data": {
      "text/plain": [
       "array([[[0.68186471]],\n",
       "\n",
       "       [[0.73913866]],\n",
       "\n",
       "       [[0.74958029]],\n",
       "\n",
       "       [[0.77737634]],\n",
       "\n",
       "       [[0.81935806]],\n",
       "\n",
       "       [[0.83560655]],\n",
       "\n",
       "       [[0.92746416]],\n",
       "\n",
       "       [[1.08783558]],\n",
       "\n",
       "       [[1.10971363]],\n",
       "\n",
       "       [[1.1651381 ]]])"
      ]
     },
     "execution_count": 8,
     "metadata": {},
     "output_type": "execute_result"
    }
   ],
   "source": [
    "dist[np.argsort(dist, axis=0)]"
   ]
  },
  {
   "cell_type": "code",
   "execution_count": 9,
   "id": "3e2d59a6",
   "metadata": {},
   "outputs": [
    {
     "data": {
      "text/plain": [
       "array([[7],\n",
       "       [0],\n",
       "       [8],\n",
       "       [6],\n",
       "       [4]], dtype=int64)"
      ]
     },
     "execution_count": 9,
     "metadata": {},
     "output_type": "execute_result"
    }
   ],
   "source": [
    "np.argsort(dist, axis=0)[-5:]"
   ]
  },
  {
   "cell_type": "code",
   "execution_count": 10,
   "id": "1981e4a5",
   "metadata": {},
   "outputs": [],
   "source": [
    "a = np.argsort(dist, axis=0).reshape(-1,)[:5]"
   ]
  },
  {
   "cell_type": "code",
   "execution_count": 11,
   "id": "0f503e9d",
   "metadata": {},
   "outputs": [
    {
     "data": {
      "text/plain": [
       "array([3, 2], dtype=int64)"
      ]
     },
     "execution_count": 11,
     "metadata": {},
     "output_type": "execute_result"
    }
   ],
   "source": [
    "np.random.choice(a, size=2, replace=False)"
   ]
  },
  {
   "cell_type": "code",
   "execution_count": 12,
   "id": "dc100908",
   "metadata": {},
   "outputs": [
    {
     "data": {
      "text/plain": [
       "{0: 1}"
      ]
     },
     "execution_count": 12,
     "metadata": {},
     "output_type": "execute_result"
    }
   ],
   "source": [
    "{0: 1}"
   ]
  },
  {
   "cell_type": "code",
   "execution_count": 13,
   "id": "e9f91013",
   "metadata": {},
   "outputs": [
    {
     "data": {
      "text/plain": [
       "[0, 1, 2]"
      ]
     },
     "execution_count": 13,
     "metadata": {},
     "output_type": "execute_result"
    }
   ],
   "source": [
    "a = [0, 1]\n",
    "a.extend([2])\n",
    "a"
   ]
  },
  {
   "cell_type": "code",
   "execution_count": 14,
   "id": "0e57bd19",
   "metadata": {},
   "outputs": [
    {
     "name": "stdout",
     "output_type": "stream",
     "text": [
      "None\n"
     ]
    }
   ],
   "source": [
    "print([0, 1].extend([2]))"
   ]
  },
  {
   "cell_type": "code",
   "execution_count": 15,
   "id": "56048dd9",
   "metadata": {},
   "outputs": [],
   "source": [
    "def create_sw_graph(\n",
    "        data: np.ndarray,\n",
    "        num_candidates_for_choice_long: int = 10,\n",
    "        num_edges_long: int = 5,\n",
    "        num_candidates_for_choice_short: int = 10,\n",
    "        num_edges_short: int = 5,\n",
    "        use_sampling: bool = False,\n",
    "        sampling_share: float = 0.05,\n",
    "        dist_f: Callable = distance\n",
    "    ) -> Dict[int, List[int]]:\n",
    "    # допишите ваш код здесь\n",
    "    graph = {}\n",
    "    for i, point in enumerate(data):\n",
    "        candidates_for_point = []\n",
    "        \n",
    "        distances = dist_f(point, data)\n",
    "        sorted_distances = np.argsort(distances, axis=0).reshape(-1,)\n",
    "    \n",
    "        further_points = sorted_distances[-num_candidates_for_choice_long:]\n",
    "        further_points = np.random.choice(further_points, size=num_edges_long, replace=False)\n",
    "        candidates_for_point.extend(list(further_points))\n",
    "        \n",
    "        closer_points = sorted_distances[1:num_candidates_for_choice_short+1]\n",
    "        closer_points = np.random.choice(closer_points, size=num_edges_short, replace=False)\n",
    "        candidates_for_point.extend(list(closer_points))\n",
    "        graph[i] = candidates_for_point\n",
    "    return graph"
   ]
  },
  {
   "cell_type": "code",
   "execution_count": 16,
   "id": "61737361",
   "metadata": {},
   "outputs": [],
   "source": [
    "documents = np.random.rand(100, 5)"
   ]
  },
  {
   "cell_type": "code",
   "execution_count": 17,
   "id": "49fa7546",
   "metadata": {},
   "outputs": [
    {
     "data": {
      "text/plain": [
       "(1, 5)"
      ]
     },
     "execution_count": 17,
     "metadata": {},
     "output_type": "execute_result"
    }
   ],
   "source": [
    "documents[0].reshape(1, -1).shape"
   ]
  },
  {
   "cell_type": "code",
   "execution_count": 18,
   "id": "ab2a33f5",
   "metadata": {},
   "outputs": [],
   "source": [
    "graph = create_sw_graph(documents)"
   ]
  },
  {
   "cell_type": "code",
   "execution_count": 19,
   "id": "412582e1",
   "metadata": {},
   "outputs": [
    {
     "data": {
      "text/plain": [
       "[74, 10, 76, 37, 5, 91, 70, 22, 40, 92]"
      ]
     },
     "execution_count": 19,
     "metadata": {},
     "output_type": "execute_result"
    }
   ],
   "source": [
    "graph[0]"
   ]
  },
  {
   "cell_type": "code",
   "execution_count": 20,
   "id": "64ebdb9f",
   "metadata": {},
   "outputs": [
    {
     "data": {
      "text/plain": [
       "(0.8315993874278309, 0.8653358891683167)"
      ]
     },
     "execution_count": 20,
     "metadata": {},
     "output_type": "execute_result"
    }
   ],
   "source": [
    "np.linalg.norm(documents[0] - documents[95]), np.linalg.norm(documents[0] - documents[80]),"
   ]
  },
  {
   "cell_type": "code",
   "execution_count": 56,
   "id": "c5b2551e",
   "metadata": {},
   "outputs": [],
   "source": [
    "def nsw(query_point: np.ndarray,\n",
    "        all_documents: np.ndarray, \n",
    "        graph_edges: Dict[int, List[int]],\n",
    "        search_k: int = 10,\n",
    "        num_start_points: int = 5,\n",
    "        dist_f: Callable = distance) -> np.ndarray:\n",
    "    # my code below \n",
    "    start_points = np.random.choice(all_documents.shape[0], size=num_start_points, replace=False)\n",
    "    \n",
    "    def search_candidates(query, graph, next_elem, visited, first_min_elem, second_min_elem):\n",
    "        visited.append(next_elem)\n",
    "        documents = all_documents[graph[start_point]]\n",
    "        distances = dist_f(query, documents)\n",
    "        sorted_distances = np.argsort(distances, axis=0).reshape(-1,)\n",
    "        first_closest_candidate_ind = sorted_distances[0]\n",
    "        second_closest_candidate_ind = sorted_distances[1]\n",
    "        first_closest_candidate_dist = distances[first_closest_candidate_ind]\n",
    "        second_closest_candidate_dist = distances[second_closest_candidate_ind]\n",
    "        \n",
    "        if first_min_elem['dist'] > first_closest_candidate_dist:\n",
    "            first_min_elem['ind'] = first_closest_candidate_ind\n",
    "            first_min_elem['dist'] = first_closest_candidate_dist\n",
    "            next_elem = first_closest_candidate_ind\n",
    "        \n",
    "        if second_min_elem['dist'] > second_closest_candidate_dist and first_min_elem['ind'] != second_closest_candidate_ind:\n",
    "            second_min_elem['ind'] = second_closest_candidate_ind\n",
    "            second_min_elem['dist'] = second_closest_candidate_dist\n",
    "            next_elem = second_closest_candidate_ind\n",
    "        elif second_min_elem['dist'] > first_closest_candidate_dist and first_min_elem['ind'] != first_closest_candidate_ind:\n",
    "            second_min_elem['ind'] = first_closest_candidate_ind\n",
    "            second_min_elem['dist'] = first_closest_candidate_dist\n",
    "            next_elem = first_closest_candidate_ind\n",
    "            \n",
    "        if next_elem in visited:\n",
    "            print(first_min_elem)\n",
    "            print(second_min_elem)\n",
    "            return (first_min_elem, second_min_elem)\n",
    "        search_candidates(query, graph, next_elem, visited, first_min_elem, second_min_elem)\n",
    "        \n",
    "    \n",
    "    closest_candidates = []\n",
    "    distances = []\n",
    "    for start_point in start_points:\n",
    "        first_elem = {'ind': -1, 'dist': float('inf')}\n",
    "        second_elem = {'ind': -1, 'dist': float('inf')}\n",
    "        visited = []\n",
    "        first_min_elem, second_min_elem = search_candidates(query_point, graph, start_point, visited, first_elem, second_elem)\n",
    "        closest_candidates.extend[[first_min_elem['ind'], second_min_elem['ind']]]\n",
    "        distances.extend[[first_min_elem['dist'], second_min_elem['dist']]]  \n",
    "    \n",
    "    top_closest_points = np.argsort(np.array(distances), axis=0)[:search_k]\n",
    "    closest_candidates = np.array(closest_candidates)[top_closest_points]\n",
    "    return all_documents[closest_candidates]\n",
    "            \n",
    "        \n",
    "        "
   ]
  },
  {
   "cell_type": "code",
   "execution_count": 57,
   "id": "27703f2a",
   "metadata": {},
   "outputs": [],
   "source": [
    "query = np.array([1., 1., 1., 1., 1.])"
   ]
  },
  {
   "cell_type": "code",
   "execution_count": 58,
   "id": "aa71bf83",
   "metadata": {},
   "outputs": [
    {
     "data": {
      "text/plain": [
       "(5,)"
      ]
     },
     "execution_count": 58,
     "metadata": {},
     "output_type": "execute_result"
    }
   ],
   "source": [
    "query.shape"
   ]
  },
  {
   "cell_type": "code",
   "execution_count": 59,
   "id": "b5adcd43",
   "metadata": {},
   "outputs": [
    {
     "name": "stdout",
     "output_type": "stream",
     "text": [
      "{'ind': 3, 'dist': array([1.07867288])}\n",
      "{'ind': 5, 'dist': array([1.11483531])}\n"
     ]
    },
    {
     "ename": "TypeError",
     "evalue": "cannot unpack non-iterable NoneType object",
     "output_type": "error",
     "traceback": [
      "\u001b[1;31m---------------------------------------------------------------------------\u001b[0m",
      "\u001b[1;31mTypeError\u001b[0m                                 Traceback (most recent call last)",
      "\u001b[1;32m~\\AppData\\Local\\Temp/ipykernel_7008/1523652638.py\u001b[0m in \u001b[0;36m<module>\u001b[1;34m\u001b[0m\n\u001b[1;32m----> 1\u001b[1;33m \u001b[0mcandidates\u001b[0m \u001b[1;33m=\u001b[0m \u001b[0mnsw\u001b[0m\u001b[1;33m(\u001b[0m\u001b[0mquery\u001b[0m\u001b[1;33m,\u001b[0m \u001b[0mdocuments\u001b[0m\u001b[1;33m,\u001b[0m \u001b[0mgraph\u001b[0m\u001b[1;33m)\u001b[0m\u001b[1;33m\u001b[0m\u001b[1;33m\u001b[0m\u001b[0m\n\u001b[0m",
      "\u001b[1;32m~\\AppData\\Local\\Temp/ipykernel_7008/1177651378.py\u001b[0m in \u001b[0;36mnsw\u001b[1;34m(query_point, all_documents, graph_edges, search_k, num_start_points, dist_f)\u001b[0m\n\u001b[0;32m     45\u001b[0m         \u001b[0msecond_elem\u001b[0m \u001b[1;33m=\u001b[0m \u001b[1;33m{\u001b[0m\u001b[1;34m'ind'\u001b[0m\u001b[1;33m:\u001b[0m \u001b[1;33m-\u001b[0m\u001b[1;36m1\u001b[0m\u001b[1;33m,\u001b[0m \u001b[1;34m'dist'\u001b[0m\u001b[1;33m:\u001b[0m \u001b[0mfloat\u001b[0m\u001b[1;33m(\u001b[0m\u001b[1;34m'inf'\u001b[0m\u001b[1;33m)\u001b[0m\u001b[1;33m}\u001b[0m\u001b[1;33m\u001b[0m\u001b[1;33m\u001b[0m\u001b[0m\n\u001b[0;32m     46\u001b[0m         \u001b[0mvisited\u001b[0m \u001b[1;33m=\u001b[0m \u001b[1;33m[\u001b[0m\u001b[1;33m]\u001b[0m\u001b[1;33m\u001b[0m\u001b[1;33m\u001b[0m\u001b[0m\n\u001b[1;32m---> 47\u001b[1;33m         \u001b[0mfirst_min_elem\u001b[0m\u001b[1;33m,\u001b[0m \u001b[0msecond_min_elem\u001b[0m \u001b[1;33m=\u001b[0m \u001b[0msearch_candidates\u001b[0m\u001b[1;33m(\u001b[0m\u001b[0mquery_point\u001b[0m\u001b[1;33m,\u001b[0m \u001b[0mgraph\u001b[0m\u001b[1;33m,\u001b[0m \u001b[0mstart_point\u001b[0m\u001b[1;33m,\u001b[0m \u001b[0mvisited\u001b[0m\u001b[1;33m,\u001b[0m \u001b[0mfirst_elem\u001b[0m\u001b[1;33m,\u001b[0m \u001b[0msecond_elem\u001b[0m\u001b[1;33m)\u001b[0m\u001b[1;33m\u001b[0m\u001b[1;33m\u001b[0m\u001b[0m\n\u001b[0m\u001b[0;32m     48\u001b[0m         \u001b[0mclosest_candidates\u001b[0m\u001b[1;33m.\u001b[0m\u001b[0mextend\u001b[0m\u001b[1;33m[\u001b[0m\u001b[1;33m[\u001b[0m\u001b[0mfirst_min_elem\u001b[0m\u001b[1;33m[\u001b[0m\u001b[1;34m'ind'\u001b[0m\u001b[1;33m]\u001b[0m\u001b[1;33m,\u001b[0m \u001b[0msecond_min_elem\u001b[0m\u001b[1;33m[\u001b[0m\u001b[1;34m'ind'\u001b[0m\u001b[1;33m]\u001b[0m\u001b[1;33m]\u001b[0m\u001b[1;33m]\u001b[0m\u001b[1;33m\u001b[0m\u001b[1;33m\u001b[0m\u001b[0m\n\u001b[0;32m     49\u001b[0m         \u001b[0mdistances\u001b[0m\u001b[1;33m.\u001b[0m\u001b[0mextend\u001b[0m\u001b[1;33m[\u001b[0m\u001b[1;33m[\u001b[0m\u001b[0mfirst_min_elem\u001b[0m\u001b[1;33m[\u001b[0m\u001b[1;34m'dist'\u001b[0m\u001b[1;33m]\u001b[0m\u001b[1;33m,\u001b[0m \u001b[0msecond_min_elem\u001b[0m\u001b[1;33m[\u001b[0m\u001b[1;34m'dist'\u001b[0m\u001b[1;33m]\u001b[0m\u001b[1;33m]\u001b[0m\u001b[1;33m]\u001b[0m\u001b[1;33m\u001b[0m\u001b[1;33m\u001b[0m\u001b[0m\n",
      "\u001b[1;31mTypeError\u001b[0m: cannot unpack non-iterable NoneType object"
     ]
    }
   ],
   "source": [
    "candidates = nsw(query, documents, graph)"
   ]
  },
  {
   "cell_type": "code",
   "execution_count": null,
   "id": "fbf48207",
   "metadata": {},
   "outputs": [],
   "source": []
  },
  {
   "cell_type": "code",
   "execution_count": null,
   "id": "79e9c91e",
   "metadata": {},
   "outputs": [],
   "source": []
  },
  {
   "cell_type": "code",
   "execution_count": null,
   "id": "e069dcff",
   "metadata": {},
   "outputs": [],
   "source": []
  },
  {
   "cell_type": "code",
   "execution_count": null,
   "id": "cefcbb04",
   "metadata": {},
   "outputs": [],
   "source": []
  }
 ],
 "metadata": {
  "kernelspec": {
   "display_name": "Python 3 (ipykernel)",
   "language": "python",
   "name": "python3"
  },
  "language_info": {
   "codemirror_mode": {
    "name": "ipython",
    "version": 3
   },
   "file_extension": ".py",
   "mimetype": "text/x-python",
   "name": "python",
   "nbconvert_exporter": "python",
   "pygments_lexer": "ipython3",
   "version": "3.9.7"
  }
 },
 "nbformat": 4,
 "nbformat_minor": 5
}
