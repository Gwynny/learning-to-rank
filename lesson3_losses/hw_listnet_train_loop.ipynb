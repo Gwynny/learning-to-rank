{
 "cells": [
  {
   "cell_type": "code",
   "execution_count": 1,
   "id": "b4e77aab",
   "metadata": {},
   "outputs": [],
   "source": [
    "import math\n",
    "\n",
    "import numpy as np\n",
    "import torch\n",
    "from catboost.datasets import msrank_10k\n",
    "from sklearn.preprocessing import StandardScaler\n",
    "from torch import nn\n",
    "\n",
    "from typing import List\n",
    "\n",
    "\n",
    "class ListNet(torch.nn.Module):\n",
    "    def __init__(self, num_input_features: int, hidden_dim: int):\n",
    "        super().__init__()\n",
    "        self.hidden_dim = hidden_dim\n",
    "        # укажите архитектуру простой модели здесь\n",
    "        self.model = nn.Sequential(\n",
    "            nn.Linear(num_input_features, hidden_dim),\n",
    "            nn.BatchNorm1d(hidden_dim),\n",
    "            nn.ReLU(),\n",
    "            nn.Dropout(p=0.3),\n",
    "            nn.Linear(hidden_dim, 1),\n",
    "        )\n",
    "\n",
    "    def forward(self, input_1: torch.Tensor) -> torch.Tensor:\n",
    "        logits = self.model(input_1)\n",
    "        return logits\n",
    "\n",
    "\n",
    "class Solution:\n",
    "    def __init__(self, n_epochs: int = 5, listnet_hidden_dim: int = 30,\n",
    "                 lr: float = 0.001, ndcg_top_k: int = 10):\n",
    "        self._prepare_data()\n",
    "        self.num_input_features = self.X_train.shape[1]\n",
    "        self.ndcg_top_k = ndcg_top_k\n",
    "        self.n_epochs = n_epochs\n",
    "\n",
    "        self.model = self._create_model(\n",
    "            self.num_input_features, listnet_hidden_dim\n",
    "        )\n",
    "        self.optimizer = torch.optim.Adam(self.model.parameters(), lr=lr)\n",
    "\n",
    "    def _get_data(self) -> List[np.ndarray]:\n",
    "        train_df, test_df = msrank_10k()\n",
    "\n",
    "        X_train = train_df.drop([0, 1], axis=1).values\n",
    "        y_train = train_df[0].values\n",
    "        query_ids_train = train_df[1].values.astype(int)\n",
    "\n",
    "        X_test = test_df.drop([0, 1], axis=1).values\n",
    "        y_test = test_df[0].values\n",
    "        query_ids_test = test_df[1].values.astype(int)\n",
    "\n",
    "        return [X_train, y_train, query_ids_train, X_test, y_test,\n",
    "                query_ids_test]\n",
    "\n",
    "    def _prepare_data(self) -> None:\n",
    "        (X_train, y_train, self.query_ids_train,\n",
    "         X_test, y_test, self.query_ids_test) = self._get_data()\n",
    "        # допишите ваш код здесь\n",
    "        X_train = self._scale_features_in_query_groups(\n",
    "            X_train, self.query_ids_train\n",
    "        )\n",
    "        X_test = self._scale_features_in_query_groups(\n",
    "            X_test, self.query_ids_test\n",
    "        )\n",
    "\n",
    "        self.X_train = torch.from_numpy(X_train).type(torch.FloatTensor)\n",
    "        self.ys_train = torch.from_numpy(y_train).type(torch.FloatTensor)\n",
    "        self.X_test = torch.from_numpy(X_test).type(torch.FloatTensor)\n",
    "        self.ys_test = torch.from_numpy(y_test).type(torch.FloatTensor)\n",
    "\n",
    "    def _scale_features_in_query_groups(self, inp_feat_array: np.ndarray,\n",
    "                                        inp_query_ids: np.ndarray) -> \\\n",
    "            np.ndarray:\n",
    "        # допишите ваш код здесь\n",
    "        for query_id in np.unique(inp_query_ids):\n",
    "            mask = inp_query_ids == query_id\n",
    "            scaler = StandardScaler()\n",
    "            scaled_part = scaler.fit_transform(inp_feat_array[mask])\n",
    "            inp_feat_array[mask] = scaled_part\n",
    "        return inp_feat_array\n",
    "\n",
    "    def _create_model(self, listnet_num_input_features: int,\n",
    "                      listnet_hidden_dim: int) -> torch.nn.Module:\n",
    "        torch.manual_seed(0)\n",
    "        # допишите ваш код здесь\n",
    "        net = ListNet(\n",
    "            listnet_num_input_features,\n",
    "            listnet_hidden_dim\n",
    "        )\n",
    "        return net\n",
    "\n",
    "    def fit(self) -> List[float]:\n",
    "        # допишите ваш код здесь\n",
    "        val_ndcgs = []\n",
    "        for _ in range(self.n_epochs):\n",
    "            self._train_one_epoch()\n",
    "            val_ndcgs.append(self._eval_test_set())\n",
    "        return val_ndcgs\n",
    "\n",
    "    def _calc_loss(self, batch_ys: torch.FloatTensor,\n",
    "                   batch_pred: torch.FloatTensor) -> torch.FloatTensor:\n",
    "        # допишите ваш код здесь\n",
    "        P_y_i = torch.softmax(batch_ys, dim=0)\n",
    "        P_z_i = torch.softmax(batch_pred, dim=0)\n",
    "        return -torch.sum(P_y_i * torch.log(P_z_i/P_y_i))\n",
    "\n",
    "    def _train_one_epoch(self) -> None:\n",
    "        self.model.train()\n",
    "        # допишите ваш код здесь\n",
    "        unique_queries = np.unique(self.query_ids_train)\n",
    "        np.random.shuffle(unique_queries)\n",
    "\n",
    "        for query_id in unique_queries:\n",
    "            group_X = self.X_train[self.query_ids_train == query_id]\n",
    "            group_y = self.ys_train[self.query_ids_train == query_id]\n",
    "\n",
    "            self.optimizer.zero_grad()\n",
    "            preds = self.model(group_X).reshape(-1,)\n",
    "            loss = self._calc_loss(group_y.reshape(-1,), preds)\n",
    "            loss.backward()\n",
    "            self.optimizer.step()\n",
    "\n",
    "    def _eval_test_set(self) -> float:\n",
    "        with torch.no_grad():\n",
    "            self.model.eval()\n",
    "            unique_queries = np.unique(self.query_ids_test)\n",
    "            ndcgs = []\n",
    "            # допишите ваш код здесь\n",
    "            for query_id in unique_queries:\n",
    "                batch_X = self.X_test[self.query_ids_test == query_id]\n",
    "                batch_y = self.ys_test[self.query_ids_test == query_id]\n",
    "                y_pred = self.model(batch_X)\n",
    "                group_dcg = self._ndcg_k(batch_y, y_pred,\n",
    "                                         self.ndcg_top_k).item()\n",
    "                if np.isnan(group_dcg):\n",
    "                    ndcgs.append(0)\n",
    "                    continue\n",
    "                ndcgs.append(group_dcg)\n",
    "            return np.mean(ndcgs)\n",
    "\n",
    "    def _dcg(self, ys_true: torch.Tensor, ys_pred: torch.Tensor,\n",
    "             k: int) -> float:\n",
    "        ys_pred, indices = torch.sort(ys_pred, dim=0, descending=True)\n",
    "        ys_true = ys_true[indices[:k]]\n",
    "\n",
    "        sum_dcg = 0\n",
    "        for i, y_true in enumerate(ys_true, 1):\n",
    "            sum_dcg += (2 ** y_true - 1) / math.log2(i + 1)\n",
    "        return sum_dcg\n",
    "\n",
    "    def _ndcg_k(self, ys_true: torch.Tensor, ys_pred: torch.Tensor,\n",
    "                ndcg_top_k: int) -> float:\n",
    "        ideal_dcg = self._dcg(ys_true, ys_true, ndcg_top_k)\n",
    "        case_dcg = self._dcg(ys_true, ys_pred, ndcg_top_k)\n",
    "        return case_dcg / ideal_dcg"
   ]
  },
  {
   "cell_type": "code",
   "execution_count": 2,
   "id": "a1f8902c",
   "metadata": {},
   "outputs": [],
   "source": [
    "train_df, test_df = msrank_10k()\n",
    "X_train = train_df.drop([0, 1], axis=1).values\n",
    "y_train = train_df[0].values\n",
    "query_ids_train = train_df[1].values.astype(int)\n",
    "\n",
    "X_test = test_df.drop([0, 1], axis=1).values\n",
    "y_test = test_df[0].values\n",
    "query_ids_test = test_df[1].values.astype(int)"
   ]
  },
  {
   "cell_type": "code",
   "execution_count": 3,
   "id": "ee75ef42",
   "metadata": {},
   "outputs": [
    {
     "data": {
      "text/plain": [
       "array([   1,    1,    1, ..., 1291, 1291, 1291])"
      ]
     },
     "execution_count": 3,
     "metadata": {},
     "output_type": "execute_result"
    }
   ],
   "source": [
    "query_ids_train"
   ]
  },
  {
   "cell_type": "code",
   "execution_count": 4,
   "id": "73c763ed",
   "metadata": {},
   "outputs": [
    {
     "data": {
      "text/plain": [
       "array([   1,   16,   31,   46,   61,   76,   91,  106,  121,  136,  151,\n",
       "        166,  181,  196,  211,  226,  241,  256,  271,  286,  301,  316,\n",
       "        331,  346,  361,  376,  391,  406,  421,  436,  451,  466,  481,\n",
       "        496,  511,  526,  541,  556,  571,  586,  601,  616,  631,  646,\n",
       "        661,  676,  691,  706,  721,  736,  751,  766,  781,  796,  811,\n",
       "        826,  841,  856,  871,  886,  901,  916,  931,  946,  961,  976,\n",
       "        991, 1006, 1021, 1036, 1051, 1066, 1081, 1096, 1111, 1126, 1141,\n",
       "       1156, 1171, 1186, 1201, 1216, 1231, 1246, 1261, 1276, 1291])"
      ]
     },
     "execution_count": 4,
     "metadata": {},
     "output_type": "execute_result"
    }
   ],
   "source": [
    "np.unique(query_ids_train)"
   ]
  },
  {
   "cell_type": "code",
   "execution_count": 5,
   "id": "83729338",
   "metadata": {},
   "outputs": [
    {
     "data": {
      "text/plain": [
       "numpy.ndarray"
      ]
     },
     "execution_count": 5,
     "metadata": {},
     "output_type": "execute_result"
    }
   ],
   "source": [
    "type(query_ids_train)"
   ]
  },
  {
   "cell_type": "code",
   "execution_count": 6,
   "id": "cd986f63",
   "metadata": {
    "scrolled": false
   },
   "outputs": [
    {
     "data": {
      "text/plain": [
       "87"
      ]
     },
     "execution_count": 6,
     "metadata": {},
     "output_type": "execute_result"
    }
   ],
   "source": [
    "len(np.unique(query_ids_train))"
   ]
  },
  {
   "cell_type": "code",
   "execution_count": 7,
   "id": "1f4f2772",
   "metadata": {},
   "outputs": [
    {
     "data": {
      "text/plain": [
       "array([[ 3. ,  3. ,  0. , ...,  0. ,  0. ,  0. ],\n",
       "       [ 3. ,  0. ,  3. , ...,  0. ,  0. ,  0. ],\n",
       "       [ 3. ,  0. ,  2. , ...,  0. ,  0. ,  0. ],\n",
       "       ...,\n",
       "       [ 3. ,  3. ,  3. , ...,  0. ,  0. ,  0. ],\n",
       "       [ 2. ,  0. ,  2. , ...,  0. , 20. , 42.6],\n",
       "       [ 3. ,  0. ,  3. , ...,  0. ,  0. ,  0. ]])"
      ]
     },
     "execution_count": 7,
     "metadata": {},
     "output_type": "execute_result"
    }
   ],
   "source": [
    "X_train[query_ids_train == 1]"
   ]
  },
  {
   "cell_type": "code",
   "execution_count": 8,
   "id": "81af5fdd",
   "metadata": {},
   "outputs": [
    {
     "data": {
      "text/plain": [
       "(10000, 136)"
      ]
     },
     "execution_count": 8,
     "metadata": {},
     "output_type": "execute_result"
    }
   ],
   "source": [
    "X_train.shape"
   ]
  },
  {
   "cell_type": "code",
   "execution_count": 9,
   "id": "7208ded7",
   "metadata": {},
   "outputs": [],
   "source": [
    "scaler = StandardScaler()"
   ]
  },
  {
   "cell_type": "code",
   "execution_count": 10,
   "id": "85133539",
   "metadata": {},
   "outputs": [],
   "source": [
    "scaled_arrays = []\n",
    "for query_id in np.unique(query_ids_train):\n",
    "    scaled_part = scaler.fit_transform(X_train[query_ids_train == query_id])\n",
    "    scaled_arrays.append(scaled_part)\n",
    "scaled_X_train = np.concatenate(scaled_arrays, axis=0)"
   ]
  },
  {
   "cell_type": "code",
   "execution_count": 11,
   "id": "a26a5c79",
   "metadata": {},
   "outputs": [
    {
     "data": {
      "text/plain": [
       "87"
      ]
     },
     "execution_count": 11,
     "metadata": {},
     "output_type": "execute_result"
    }
   ],
   "source": [
    "len(scaled_arrays)"
   ]
  },
  {
   "cell_type": "code",
   "execution_count": 12,
   "id": "e959194a",
   "metadata": {
    "scrolled": false
   },
   "outputs": [
    {
     "data": {
      "text/plain": [
       "(10000, 136)"
      ]
     },
     "execution_count": 12,
     "metadata": {},
     "output_type": "execute_result"
    }
   ],
   "source": [
    "scaled_X_train.shape"
   ]
  },
  {
   "cell_type": "code",
   "execution_count": 13,
   "id": "8c3343cc",
   "metadata": {
    "scrolled": true
   },
   "outputs": [
    {
     "data": {
      "text/plain": [
       "array([[ 0.31606376,  4.81705177, -2.17593133, ..., -0.11175774,\n",
       "        -0.19593518, -0.26622504],\n",
       "       [ 0.31606376, -0.23497813,  0.61705515, ..., -0.11175774,\n",
       "        -0.19593518, -0.26622504],\n",
       "       [ 0.31606376, -0.23497813, -0.31394034, ..., -0.11175774,\n",
       "        -0.19593518, -0.26622504],\n",
       "       ...,\n",
       "       [ 0.31606376,  4.81705177,  0.61705515, ..., -0.11175774,\n",
       "        -0.19593518, -0.26622504],\n",
       "       [-1.28284703, -0.23497813, -0.31394034, ..., -0.11175774,\n",
       "        -0.07383065,  1.91992331],\n",
       "       [ 0.31606376, -0.23497813,  0.61705515, ..., -0.11175774,\n",
       "        -0.19593518, -0.26622504]])"
      ]
     },
     "execution_count": 13,
     "metadata": {},
     "output_type": "execute_result"
    }
   ],
   "source": [
    "scaler.fit_transform(X_train[query_ids_train == 1])"
   ]
  },
  {
   "cell_type": "code",
   "execution_count": 14,
   "id": "4d5edae7",
   "metadata": {},
   "outputs": [],
   "source": [
    "num_feats = scaled_X_train.shape[1]"
   ]
  },
  {
   "cell_type": "code",
   "execution_count": 15,
   "id": "fdb92073",
   "metadata": {},
   "outputs": [],
   "source": [
    "slt = Solution(n_epochs=10)\n",
    "ndcg = slt.fit()"
   ]
  },
  {
   "cell_type": "code",
   "execution_count": 16,
   "id": "61c72aef",
   "metadata": {},
   "outputs": [
    {
     "data": {
      "text/plain": [
       "[0.4154603543098677,\n",
       " 0.4288841356438669,\n",
       " 0.42195730832066725,\n",
       " 0.42791208531707525,\n",
       " 0.43076728957451205,\n",
       " 0.4199077663308179,\n",
       " 0.421083140313964,\n",
       " 0.4342134243978018,\n",
       " 0.4209770988672972,\n",
       " 0.4373986226591197]"
      ]
     },
     "execution_count": 16,
     "metadata": {},
     "output_type": "execute_result"
    }
   ],
   "source": [
    "ndcg"
   ]
  },
  {
   "cell_type": "code",
   "execution_count": null,
   "id": "c8423b76",
   "metadata": {},
   "outputs": [],
   "source": []
  }
 ],
 "metadata": {
  "kernelspec": {
   "display_name": "Python 3 (ipykernel)",
   "language": "python",
   "name": "python3"
  },
  "language_info": {
   "codemirror_mode": {
    "name": "ipython",
    "version": 3
   },
   "file_extension": ".py",
   "mimetype": "text/x-python",
   "name": "python",
   "nbconvert_exporter": "python",
   "pygments_lexer": "ipython3",
   "version": "3.9.7"
  }
 },
 "nbformat": 4,
 "nbformat_minor": 5
}
