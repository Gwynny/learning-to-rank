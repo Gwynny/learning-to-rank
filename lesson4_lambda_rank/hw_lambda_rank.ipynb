{
 "cells": [
  {
   "cell_type": "code",
   "execution_count": 234,
   "id": "fd90964b",
   "metadata": {},
   "outputs": [],
   "source": [
    "import math\n",
    "import pickle\n",
    "import random\n",
    "from typing import List, Tuple\n",
    "\n",
    "import numpy as np\n",
    "import torch\n",
    "from catboost.datasets import msrank_10k\n",
    "from sklearn.preprocessing import StandardScaler\n",
    "from sklearn.tree import DecisionTreeRegressor\n",
    "from tqdm.auto import tqdm\n",
    "\n",
    "\n",
    "class Solution:\n",
    "    def __init__(self, n_estimators: int = 100, lr: float = 0.5, ndcg_top_k: int = 10,\n",
    "                 subsample: float = 0.6, colsample_bytree: float = 0.9,\n",
    "                 max_depth: int = 5, min_samples_leaf: int = 8):\n",
    "        self._prepare_data()\n",
    "\n",
    "        self.ndcg_top_k = ndcg_top_k\n",
    "        self.n_estimators = n_estimators\n",
    "        self.lr = lr\n",
    "        self.max_depth = max_depth\n",
    "        self.min_samples_leaf = min_samples_leaf\n",
    "        \n",
    "        # допишите ваш код здесь\n",
    "        self.subsample = subsample\n",
    "        self.colsample_bytree = colsample_bytree\n",
    "        self.trees = []\n",
    "\n",
    "\n",
    "    def _get_data(self) -> List[np.ndarray]:\n",
    "        train_df, test_df = msrank_10k()\n",
    "\n",
    "        X_train = train_df.drop([0, 1], axis=1).values\n",
    "        y_train = train_df[0].values\n",
    "        query_ids_train = train_df[1].values.astype(int)\n",
    "\n",
    "        X_test = test_df.drop([0, 1], axis=1).values\n",
    "        y_test = test_df[0].values\n",
    "        query_ids_test = test_df[1].values.astype(int)\n",
    "\n",
    "        return [X_train, y_train, query_ids_train, X_test, y_test,\n",
    "                query_ids_test]\n",
    "\n",
    "    def _prepare_data(self) -> None:\n",
    "        (X_train, y_train, self.query_ids_train,\n",
    "         X_test, y_test, self.query_ids_test) = self._get_data()\n",
    "        # допишите ваш код здесь\n",
    "        X_train = self._scale_features_in_query_groups(\n",
    "            X_train, self.query_ids_train\n",
    "        )\n",
    "        X_test = self._scale_features_in_query_groups(\n",
    "            X_test, self.query_ids_test\n",
    "        )\n",
    "\n",
    "        self.X_train = torch.from_numpy(X_train).type(torch.FloatTensor)\n",
    "        self.ys_train = torch.from_numpy(y_train).type(torch.FloatTensor).reshape(-1, 1)\n",
    "        self.X_test = torch.from_numpy(X_test).type(torch.FloatTensor)\n",
    "        self.ys_test = torch.from_numpy(y_test).type(torch.FloatTensor).reshape(-1, 1)\n",
    "\n",
    "    def _scale_features_in_query_groups(self, inp_feat_array: np.ndarray,\n",
    "                                        inp_query_ids: np.ndarray) -> \\\n",
    "            np.ndarray:\n",
    "        # допишите ваш код здесь\n",
    "        for query_id in np.unique(inp_query_ids):\n",
    "            mask = inp_query_ids == query_id\n",
    "            scaler = StandardScaler()\n",
    "            scaled_part = scaler.fit_transform(inp_feat_array[mask])\n",
    "            inp_feat_array[mask] = scaled_part\n",
    "        return inp_feat_array\n",
    "\n",
    "    def _train_one_tree(self, cur_tree_idx: int,\n",
    "                        train_preds: torch.FloatTensor\n",
    "                        ) -> Tuple[DecisionTreeRegressor, np.ndarray]:\n",
    "        # допишите ваш код здесь\n",
    "        np.random.seed(cur_tree_idx)\n",
    "        unique_queries = np.unique(self.query_ids_train)\n",
    "        num_objects = self.X_train.shape[0]\n",
    "        lambdas = np.zeros((num_objects, 1))\n",
    "        for i, query_id in enumerate(unique_queries):\n",
    "            mask = self.query_ids_train == query_id\n",
    "            group_X = self.X_train[mask]\n",
    "            group_y = self.ys_train[mask]\n",
    "            group_preds = train_preds[mask]\n",
    "            group_lambdas = self._compute_lambdas(group_y, group_preds)\n",
    "            lambdas[mask] = group_lambdas\n",
    "        \n",
    "        dt = DecisionTreeRegressor(max_depth=self.max_depth,\n",
    "                                   min_samples_leaf=self.min_samples_leaf,\n",
    "                                   random_state=cur_tree_idx)\n",
    "        num_features = self.X_train.shape[1]\n",
    "        rows = np.random.choice(np.arange(num_objects),\n",
    "                                size=int(self.subsample*num_objects),\n",
    "                                replace=False)\n",
    "        cols = np.random.choice(np.arange(num_features),\n",
    "                                size=int(self.colsample_bytree*num_features),\n",
    "                                replace=False)\n",
    "        \n",
    "        sample_X_train = self.X_train[rows, :][:, cols]\n",
    "        lambdas = lambdas[rows]\n",
    "        dt.fit(sample_X_train, lambdas)\n",
    "        return (dt, cols)\n",
    "        \n",
    "    def fit(self):\n",
    "        np.random.seed(0)\n",
    "        # допишите ваш код здесь\n",
    "        num_objects = self.X_train.shape[0]\n",
    "        best_ndcg = max_ndcg = 0\n",
    "        prev_preds = torch.from_numpy(np.zeros((num_objects, 1))).type(torch.FloatTensor)\n",
    "        valid_preds = torch.from_numpy(np.zeros((self.X_test.shape[0], 1))).type(torch.FloatTensor)\n",
    "        \n",
    "        for idx in range(1, self.n_estimators+1):\n",
    "            dt, train_cols = self._train_one_tree(idx, prev_preds)\n",
    "            self.trees.append((dt, train_cols))\n",
    "            prev_preds -= self.lr * dt.predict(self.X_train[:, train_cols]).reshape(-1, 1)\n",
    "            valid_preds -= self.lr * dt.predict(self.X_test[:, train_cols]).reshape(-1, 1)\n",
    "            ndcg = self._calc_data_ndcg(idx, self.ys_test, valid_preds)\n",
    "            \n",
    "            if ndcg > max_ndcg:\n",
    "                best_ndcg = idx\n",
    "            if idx % 10 == 0:\n",
    "                print(idx, ndcg)\n",
    "                \n",
    "        self.trees = self.trees[:best_ndcg]\n",
    "\n",
    "    def predict(self, data: torch.FloatTensor) -> torch.FloatTensor:\n",
    "        preds = torch.from_numpy(np.zeros((data.shape[0], 1))).type(torch.FloatTensor)\n",
    "        for dt, cols in self.trees:\n",
    "            preds -= self.lr * dt.predict(data[:, cols]).reshape(-1, 1)\n",
    "        return preds\n",
    "    \n",
    "    def _compute_lambdas(self, y_true: torch.FloatTensor, y_pred: torch.FloatTensor) -> torch.FloatTensor:\n",
    "        def compute_ideal_dcg(ys_true: torch.Tensor) -> float:\n",
    "            ys_true, _ = torch.sort(ys_true, dim=0, descending=True)\n",
    "\n",
    "            sum_dcg = 0\n",
    "            for i, y_true in enumerate(ys_true, 1):\n",
    "                sum_dcg += (2 ** y_true - 1) / math.log2(i + 1)\n",
    "            return sum_dcg\n",
    "        \n",
    "        def compute_labels_in_batch(y_true):\n",
    "            rel_diff = y_true - y_true.t()\n",
    "            pos_pairs = (rel_diff > 0).type(torch.float32)\n",
    "            neg_pairs = (rel_diff < 0).type(torch.float32)\n",
    "            Sij = pos_pairs - neg_pairs\n",
    "            return Sij\n",
    "        \n",
    "        _, rank_order = torch.sort(y_true, descending=True, axis=0)\n",
    "        rank_order += 1\n",
    "        \n",
    "        pos_pairs_score_diff = 1.0 + torch.exp((y_pred - y_pred.t()))\n",
    "        \n",
    "        Sij = compute_labels_in_batch(y_true)\n",
    "        \n",
    "        gain_diff = torch.pow(2.0, y_true) - torch.pow(2.0, y_true.t())\n",
    "        decay_diff = (1.0 / torch.log2(rank_order + 1.0)) - (1.0 / torch.log2(rank_order.t() + 1.0))\n",
    "        ideal_dcg = compute_ideal_dcg(y_true)\n",
    "        N = 1 / (ideal_dcg + 1)\n",
    "        delta_ndcg = torch.abs(N * gain_diff * decay_diff)\n",
    "\n",
    "        lambda_update =  (0.5 * (1 - Sij) - 1 / pos_pairs_score_diff) * delta_ndcg\n",
    "        lambda_update = torch.sum(lambda_update, dim=1, keepdim=True)\n",
    "        return lambda_update\n",
    "\n",
    "    def _dcg(self, ys_true: torch.Tensor, ys_pred: torch.Tensor, k: int) -> float:\n",
    "        ys_pred, indices = torch.sort(ys_pred, dim=0, descending=True)\n",
    "        ys_true = ys_true[indices[:k]]\n",
    "\n",
    "        sum_dcg = 0\n",
    "        for i, y_true in enumerate(ys_true, 1):\n",
    "            sum_dcg += (2 ** y_true - 1) / math.log2(i + 1)\n",
    "        return sum_dcg\n",
    "\n",
    "    def _ndcg_k(self, ys_true: torch.Tensor, ys_pred: torch.Tensor,\n",
    "                ndcg_top_k: int) -> float:\n",
    "        ideal_dcg = self._dcg(ys_true, ys_true, ndcg_top_k)\n",
    "        case_dcg = self._dcg(ys_true, ys_pred, ndcg_top_k)\n",
    "        return case_dcg / ideal_dcg\n",
    "    \n",
    "    def _calc_data_ndcg(self, queries_list: np.ndarray,\n",
    "                        true_labels: torch.FloatTensor, preds: torch.FloatTensor) -> float:\n",
    "        # допишите ваш код здесь\n",
    "        unique_queries = np.unique(self.query_ids_test)\n",
    "        ndcgs = []\n",
    "        for query_id in unique_queries:\n",
    "            group_y = true_labels[self.query_ids_test == query_id]\n",
    "            y_pred = preds[self.query_ids_test == query_id]\n",
    "            group_dcg = self._ndcg_k(group_y, y_pred, self.ndcg_top_k).item()\n",
    "            if np.isnan(group_dcg):\n",
    "                ndcgs.append(0)\n",
    "                continue\n",
    "            ndcgs.append(group_dcg)\n",
    "        return np.mean(ndcgs)\n",
    "\n",
    "    def save_model(self, path: str):\n",
    "        # допишите ваш код здесь\n",
    "        pass\n",
    "\n",
    "    def load_model(self, path: str):\n",
    "        # допишите ваш код здесь\n",
    "        pass\n"
   ]
  },
  {
   "cell_type": "code",
   "execution_count": 236,
   "id": "01f92fd8",
   "metadata": {},
   "outputs": [],
   "source": [
    "train_df, test_df = msrank_10k()\n",
    "X_train = train_df.drop([0, 1], axis=1).values\n",
    "y_train = train_df[0].values\n",
    "query_ids_train = train_df[1].values.astype(int)\n",
    "\n",
    "X_test = test_df.drop([0, 1], axis=1).values\n",
    "y_test = test_df[0].values\n",
    "query_ids_test = test_df[1].values.astype(int)"
   ]
  },
  {
   "cell_type": "code",
   "execution_count": 179,
   "id": "90aa247e",
   "metadata": {},
   "outputs": [
    {
     "data": {
      "text/plain": [
       "array([0., 1., 2., 3., 4.])"
      ]
     },
     "execution_count": 179,
     "metadata": {},
     "output_type": "execute_result"
    }
   ],
   "source": [
    "np.unique(y_test)"
   ]
  },
  {
   "cell_type": "code",
   "execution_count": 171,
   "id": "87a82543",
   "metadata": {},
   "outputs": [],
   "source": [
    "a = np.array([[2],[1]])\n",
    "b = np.array([2, 1]).reshape(-1,1)"
   ]
  },
  {
   "cell_type": "code",
   "execution_count": 172,
   "id": "059f135d",
   "metadata": {},
   "outputs": [
    {
     "data": {
      "text/plain": [
       "array([[0],\n",
       "       [0]])"
      ]
     },
     "execution_count": 172,
     "metadata": {},
     "output_type": "execute_result"
    }
   ],
   "source": [
    "a - b"
   ]
  },
  {
   "cell_type": "code",
   "execution_count": 173,
   "id": "2f74f9f4",
   "metadata": {},
   "outputs": [
    {
     "data": {
      "text/plain": [
       "(2, 1)"
      ]
     },
     "execution_count": 173,
     "metadata": {},
     "output_type": "execute_result"
    }
   ],
   "source": [
    "b.shape"
   ]
  },
  {
   "cell_type": "code",
   "execution_count": 235,
   "id": "65575a0d",
   "metadata": {},
   "outputs": [
    {
     "name": "stdout",
     "output_type": "stream",
     "text": [
      "10 0.3774185587906025\n",
      "20 0.3835286251269281\n",
      "30 0.38446174398995936\n",
      "40 0.39800549707036803\n",
      "50 0.3974339831408791\n",
      "60 0.40002537599172105\n",
      "70 0.3942738191478632\n",
      "80 0.4078179330099374\n",
      "90 0.409007214369591\n",
      "100 0.41244323242625053\n"
     ]
    }
   ],
   "source": [
    "slt = Solution()\n",
    "slt.fit()"
   ]
  },
  {
   "cell_type": "code",
   "execution_count": 237,
   "id": "a2450304",
   "metadata": {},
   "outputs": [],
   "source": [
    "X_test = torch.from_numpy(X_test)\n",
    "y_test = torch.from_numpy(y_test).reshape(-1, 1)"
   ]
  },
  {
   "cell_type": "code",
   "execution_count": 238,
   "id": "ba00178b",
   "metadata": {},
   "outputs": [],
   "source": [
    "valid_preds = slt.predict(X_test)"
   ]
  },
  {
   "cell_type": "code",
   "execution_count": 232,
   "id": "6dd993e6",
   "metadata": {},
   "outputs": [
    {
     "data": {
      "text/plain": [
       "torch.Size([10000, 1])"
      ]
     },
     "execution_count": 232,
     "metadata": {},
     "output_type": "execute_result"
    }
   ],
   "source": [
    "valid_preds.shape"
   ]
  },
  {
   "cell_type": "code",
   "execution_count": 233,
   "id": "36a09d5c",
   "metadata": {},
   "outputs": [
    {
     "data": {
      "text/plain": [
       "torch.Tensor"
      ]
     },
     "execution_count": 233,
     "metadata": {},
     "output_type": "execute_result"
    }
   ],
   "source": [
    "type(valid_preds)"
   ]
  },
  {
   "cell_type": "code",
   "execution_count": 239,
   "id": "d14463ec",
   "metadata": {},
   "outputs": [
    {
     "data": {
      "text/plain": [
       "0.3366628342352042"
      ]
     },
     "execution_count": 239,
     "metadata": {},
     "output_type": "execute_result"
    }
   ],
   "source": [
    "ndcg = slt._calc_data_ndcg(train_cols, y_test, valid_preds)\n",
    "ndcg"
   ]
  },
  {
   "cell_type": "code",
   "execution_count": null,
   "id": "49a16288",
   "metadata": {},
   "outputs": [],
   "source": []
  },
  {
   "cell_type": "code",
   "execution_count": 61,
   "id": "b6f69c5f",
   "metadata": {},
   "outputs": [
    {
     "data": {
      "text/plain": [
       "array([7, 6, 3, 4, 0])"
      ]
     },
     "execution_count": 61,
     "metadata": {},
     "output_type": "execute_result"
    }
   ],
   "source": [
    "np.random.choice(np.arange(10), size=5, replace=False)"
   ]
  },
  {
   "cell_type": "code",
   "execution_count": 8,
   "id": "79361166",
   "metadata": {},
   "outputs": [
    {
     "data": {
      "text/plain": [
       "array([[2., 0., 2.],\n",
       "       [2., 0., 0.],\n",
       "       [2., 0., 1.]])"
      ]
     },
     "execution_count": 8,
     "metadata": {},
     "output_type": "execute_result"
    }
   ],
   "source": [
    "X_test[[0,1,2], 0:3]"
   ]
  },
  {
   "cell_type": "code",
   "execution_count": 6,
   "id": "81ad916a",
   "metadata": {},
   "outputs": [
    {
     "data": {
      "text/plain": [
       "array([[2., 0., 2., ..., 0., 0., 0.],\n",
       "       [2., 0., 0., ..., 0., 0., 0.],\n",
       "       [2., 0., 1., ..., 0., 0., 0.],\n",
       "       ...,\n",
       "       [2., 0., 1., ..., 0., 0., 0.],\n",
       "       [4., 0., 3., ..., 0., 0., 0.],\n",
       "       [4., 2., 4., ..., 0., 0., 0.]])"
      ]
     },
     "execution_count": 6,
     "metadata": {},
     "output_type": "execute_result"
    }
   ],
   "source": [
    "X_test[0:2, 0:4]"
   ]
  },
  {
   "cell_type": "code",
   "execution_count": null,
   "id": "7da02726",
   "metadata": {},
   "outputs": [],
   "source": []
  },
  {
   "cell_type": "code",
   "execution_count": 10,
   "id": "e3903619",
   "metadata": {},
   "outputs": [],
   "source": [
    "dt = DecisionTreeRegressor(max_features=0.6, max_depth=5, min_samples_leaf=8)"
   ]
  },
  {
   "cell_type": "code",
   "execution_count": 18,
   "id": "be1bd281",
   "metadata": {},
   "outputs": [
    {
     "data": {
      "text/html": [
       "<style>#sk-container-id-2 {color: black;background-color: white;}#sk-container-id-2 pre{padding: 0;}#sk-container-id-2 div.sk-toggleable {background-color: white;}#sk-container-id-2 label.sk-toggleable__label {cursor: pointer;display: block;width: 100%;margin-bottom: 0;padding: 0.3em;box-sizing: border-box;text-align: center;}#sk-container-id-2 label.sk-toggleable__label-arrow:before {content: \"▸\";float: left;margin-right: 0.25em;color: #696969;}#sk-container-id-2 label.sk-toggleable__label-arrow:hover:before {color: black;}#sk-container-id-2 div.sk-estimator:hover label.sk-toggleable__label-arrow:before {color: black;}#sk-container-id-2 div.sk-toggleable__content {max-height: 0;max-width: 0;overflow: hidden;text-align: left;background-color: #f0f8ff;}#sk-container-id-2 div.sk-toggleable__content pre {margin: 0.2em;color: black;border-radius: 0.25em;background-color: #f0f8ff;}#sk-container-id-2 input.sk-toggleable__control:checked~div.sk-toggleable__content {max-height: 200px;max-width: 100%;overflow: auto;}#sk-container-id-2 input.sk-toggleable__control:checked~label.sk-toggleable__label-arrow:before {content: \"▾\";}#sk-container-id-2 div.sk-estimator input.sk-toggleable__control:checked~label.sk-toggleable__label {background-color: #d4ebff;}#sk-container-id-2 div.sk-label input.sk-toggleable__control:checked~label.sk-toggleable__label {background-color: #d4ebff;}#sk-container-id-2 input.sk-hidden--visually {border: 0;clip: rect(1px 1px 1px 1px);clip: rect(1px, 1px, 1px, 1px);height: 1px;margin: -1px;overflow: hidden;padding: 0;position: absolute;width: 1px;}#sk-container-id-2 div.sk-estimator {font-family: monospace;background-color: #f0f8ff;border: 1px dotted black;border-radius: 0.25em;box-sizing: border-box;margin-bottom: 0.5em;}#sk-container-id-2 div.sk-estimator:hover {background-color: #d4ebff;}#sk-container-id-2 div.sk-parallel-item::after {content: \"\";width: 100%;border-bottom: 1px solid gray;flex-grow: 1;}#sk-container-id-2 div.sk-label:hover label.sk-toggleable__label {background-color: #d4ebff;}#sk-container-id-2 div.sk-serial::before {content: \"\";position: absolute;border-left: 1px solid gray;box-sizing: border-box;top: 0;bottom: 0;left: 50%;z-index: 0;}#sk-container-id-2 div.sk-serial {display: flex;flex-direction: column;align-items: center;background-color: white;padding-right: 0.2em;padding-left: 0.2em;position: relative;}#sk-container-id-2 div.sk-item {position: relative;z-index: 1;}#sk-container-id-2 div.sk-parallel {display: flex;align-items: stretch;justify-content: center;background-color: white;position: relative;}#sk-container-id-2 div.sk-item::before, #sk-container-id-2 div.sk-parallel-item::before {content: \"\";position: absolute;border-left: 1px solid gray;box-sizing: border-box;top: 0;bottom: 0;left: 50%;z-index: -1;}#sk-container-id-2 div.sk-parallel-item {display: flex;flex-direction: column;z-index: 1;position: relative;background-color: white;}#sk-container-id-2 div.sk-parallel-item:first-child::after {align-self: flex-end;width: 50%;}#sk-container-id-2 div.sk-parallel-item:last-child::after {align-self: flex-start;width: 50%;}#sk-container-id-2 div.sk-parallel-item:only-child::after {width: 0;}#sk-container-id-2 div.sk-dashed-wrapped {border: 1px dashed gray;margin: 0 0.4em 0.5em 0.4em;box-sizing: border-box;padding-bottom: 0.4em;background-color: white;}#sk-container-id-2 div.sk-label label {font-family: monospace;font-weight: bold;display: inline-block;line-height: 1.2em;}#sk-container-id-2 div.sk-label-container {text-align: center;}#sk-container-id-2 div.sk-container {/* jupyter's `normalize.less` sets `[hidden] { display: none; }` but bootstrap.min.css set `[hidden] { display: none !important; }` so we also need the `!important` here to be able to override the default hidden behavior on the sphinx rendered scikit-learn.org. See: https://github.com/scikit-learn/scikit-learn/issues/21755 */display: inline-block !important;position: relative;}#sk-container-id-2 div.sk-text-repr-fallback {display: none;}</style><div id=\"sk-container-id-2\" class=\"sk-top-container\"><div class=\"sk-text-repr-fallback\"><pre>DecisionTreeRegressor(max_depth=5, max_features=0.6, min_samples_leaf=8)</pre><b>In a Jupyter environment, please rerun this cell to show the HTML representation or trust the notebook. <br />On GitHub, the HTML representation is unable to render, please try loading this page with nbviewer.org.</b></div><div class=\"sk-container\" hidden><div class=\"sk-item\"><div class=\"sk-estimator sk-toggleable\"><input class=\"sk-toggleable__control sk-hidden--visually\" id=\"sk-estimator-id-2\" type=\"checkbox\" checked><label for=\"sk-estimator-id-2\" class=\"sk-toggleable__label sk-toggleable__label-arrow\">DecisionTreeRegressor</label><div class=\"sk-toggleable__content\"><pre>DecisionTreeRegressor(max_depth=5, max_features=0.6, min_samples_leaf=8)</pre></div></div></div></div></div>"
      ],
      "text/plain": [
       "DecisionTreeRegressor(max_depth=5, max_features=0.6, min_samples_leaf=8)"
      ]
     },
     "execution_count": 18,
     "metadata": {},
     "output_type": "execute_result"
    }
   ],
   "source": [
    "dt.fit(X_train[:, :10], y_train)"
   ]
  },
  {
   "cell_type": "code",
   "execution_count": 20,
   "id": "7fe4378d",
   "metadata": {},
   "outputs": [
    {
     "ename": "ValueError",
     "evalue": "X has 136 features, but DecisionTreeRegressor is expecting 10 features as input.",
     "output_type": "error",
     "traceback": [
      "\u001b[1;31m---------------------------------------------------------------------------\u001b[0m",
      "\u001b[1;31mValueError\u001b[0m                                Traceback (most recent call last)",
      "\u001b[1;32m~\\AppData\\Local\\Temp/ipykernel_22056/836116029.py\u001b[0m in \u001b[0;36m<module>\u001b[1;34m\u001b[0m\n\u001b[1;32m----> 1\u001b[1;33m \u001b[0mdt\u001b[0m\u001b[1;33m.\u001b[0m\u001b[0mpredict\u001b[0m\u001b[1;33m(\u001b[0m\u001b[0mX_train\u001b[0m\u001b[1;33m)\u001b[0m\u001b[1;33m\u001b[0m\u001b[1;33m\u001b[0m\u001b[0m\n\u001b[0m",
      "\u001b[1;32m~\\anaconda3\\lib\\site-packages\\sklearn\\tree\\_classes.py\u001b[0m in \u001b[0;36mpredict\u001b[1;34m(self, X, check_input)\u001b[0m\n\u001b[0;32m    503\u001b[0m         \"\"\"\n\u001b[0;32m    504\u001b[0m         \u001b[0mcheck_is_fitted\u001b[0m\u001b[1;33m(\u001b[0m\u001b[0mself\u001b[0m\u001b[1;33m)\u001b[0m\u001b[1;33m\u001b[0m\u001b[1;33m\u001b[0m\u001b[0m\n\u001b[1;32m--> 505\u001b[1;33m         \u001b[0mX\u001b[0m \u001b[1;33m=\u001b[0m \u001b[0mself\u001b[0m\u001b[1;33m.\u001b[0m\u001b[0m_validate_X_predict\u001b[0m\u001b[1;33m(\u001b[0m\u001b[0mX\u001b[0m\u001b[1;33m,\u001b[0m \u001b[0mcheck_input\u001b[0m\u001b[1;33m)\u001b[0m\u001b[1;33m\u001b[0m\u001b[1;33m\u001b[0m\u001b[0m\n\u001b[0m\u001b[0;32m    506\u001b[0m         \u001b[0mproba\u001b[0m \u001b[1;33m=\u001b[0m \u001b[0mself\u001b[0m\u001b[1;33m.\u001b[0m\u001b[0mtree_\u001b[0m\u001b[1;33m.\u001b[0m\u001b[0mpredict\u001b[0m\u001b[1;33m(\u001b[0m\u001b[0mX\u001b[0m\u001b[1;33m)\u001b[0m\u001b[1;33m\u001b[0m\u001b[1;33m\u001b[0m\u001b[0m\n\u001b[0;32m    507\u001b[0m         \u001b[0mn_samples\u001b[0m \u001b[1;33m=\u001b[0m \u001b[0mX\u001b[0m\u001b[1;33m.\u001b[0m\u001b[0mshape\u001b[0m\u001b[1;33m[\u001b[0m\u001b[1;36m0\u001b[0m\u001b[1;33m]\u001b[0m\u001b[1;33m\u001b[0m\u001b[1;33m\u001b[0m\u001b[0m\n",
      "\u001b[1;32m~\\anaconda3\\lib\\site-packages\\sklearn\\tree\\_classes.py\u001b[0m in \u001b[0;36m_validate_X_predict\u001b[1;34m(self, X, check_input)\u001b[0m\n\u001b[0;32m    469\u001b[0m         \u001b[1;34m\"\"\"Validate the training data on predict (probabilities).\"\"\"\u001b[0m\u001b[1;33m\u001b[0m\u001b[1;33m\u001b[0m\u001b[0m\n\u001b[0;32m    470\u001b[0m         \u001b[1;32mif\u001b[0m \u001b[0mcheck_input\u001b[0m\u001b[1;33m:\u001b[0m\u001b[1;33m\u001b[0m\u001b[1;33m\u001b[0m\u001b[0m\n\u001b[1;32m--> 471\u001b[1;33m             \u001b[0mX\u001b[0m \u001b[1;33m=\u001b[0m \u001b[0mself\u001b[0m\u001b[1;33m.\u001b[0m\u001b[0m_validate_data\u001b[0m\u001b[1;33m(\u001b[0m\u001b[0mX\u001b[0m\u001b[1;33m,\u001b[0m \u001b[0mdtype\u001b[0m\u001b[1;33m=\u001b[0m\u001b[0mDTYPE\u001b[0m\u001b[1;33m,\u001b[0m \u001b[0maccept_sparse\u001b[0m\u001b[1;33m=\u001b[0m\u001b[1;34m\"csr\"\u001b[0m\u001b[1;33m,\u001b[0m \u001b[0mreset\u001b[0m\u001b[1;33m=\u001b[0m\u001b[1;32mFalse\u001b[0m\u001b[1;33m)\u001b[0m\u001b[1;33m\u001b[0m\u001b[1;33m\u001b[0m\u001b[0m\n\u001b[0m\u001b[0;32m    472\u001b[0m             if issparse(X) and (\n\u001b[0;32m    473\u001b[0m                 \u001b[0mX\u001b[0m\u001b[1;33m.\u001b[0m\u001b[0mindices\u001b[0m\u001b[1;33m.\u001b[0m\u001b[0mdtype\u001b[0m \u001b[1;33m!=\u001b[0m \u001b[0mnp\u001b[0m\u001b[1;33m.\u001b[0m\u001b[0mintc\u001b[0m \u001b[1;32mor\u001b[0m \u001b[0mX\u001b[0m\u001b[1;33m.\u001b[0m\u001b[0mindptr\u001b[0m\u001b[1;33m.\u001b[0m\u001b[0mdtype\u001b[0m \u001b[1;33m!=\u001b[0m \u001b[0mnp\u001b[0m\u001b[1;33m.\u001b[0m\u001b[0mintc\u001b[0m\u001b[1;33m\u001b[0m\u001b[1;33m\u001b[0m\u001b[0m\n",
      "\u001b[1;32m~\\anaconda3\\lib\\site-packages\\sklearn\\base.py\u001b[0m in \u001b[0;36m_validate_data\u001b[1;34m(self, X, y, reset, validate_separately, **check_params)\u001b[0m\n\u001b[0;32m    598\u001b[0m \u001b[1;33m\u001b[0m\u001b[0m\n\u001b[0;32m    599\u001b[0m         \u001b[1;32mif\u001b[0m \u001b[1;32mnot\u001b[0m \u001b[0mno_val_X\u001b[0m \u001b[1;32mand\u001b[0m \u001b[0mcheck_params\u001b[0m\u001b[1;33m.\u001b[0m\u001b[0mget\u001b[0m\u001b[1;33m(\u001b[0m\u001b[1;34m\"ensure_2d\"\u001b[0m\u001b[1;33m,\u001b[0m \u001b[1;32mTrue\u001b[0m\u001b[1;33m)\u001b[0m\u001b[1;33m:\u001b[0m\u001b[1;33m\u001b[0m\u001b[1;33m\u001b[0m\u001b[0m\n\u001b[1;32m--> 600\u001b[1;33m             \u001b[0mself\u001b[0m\u001b[1;33m.\u001b[0m\u001b[0m_check_n_features\u001b[0m\u001b[1;33m(\u001b[0m\u001b[0mX\u001b[0m\u001b[1;33m,\u001b[0m \u001b[0mreset\u001b[0m\u001b[1;33m=\u001b[0m\u001b[0mreset\u001b[0m\u001b[1;33m)\u001b[0m\u001b[1;33m\u001b[0m\u001b[1;33m\u001b[0m\u001b[0m\n\u001b[0m\u001b[0;32m    601\u001b[0m \u001b[1;33m\u001b[0m\u001b[0m\n\u001b[0;32m    602\u001b[0m         \u001b[1;32mreturn\u001b[0m \u001b[0mout\u001b[0m\u001b[1;33m\u001b[0m\u001b[1;33m\u001b[0m\u001b[0m\n",
      "\u001b[1;32m~\\anaconda3\\lib\\site-packages\\sklearn\\base.py\u001b[0m in \u001b[0;36m_check_n_features\u001b[1;34m(self, X, reset)\u001b[0m\n\u001b[0;32m    398\u001b[0m \u001b[1;33m\u001b[0m\u001b[0m\n\u001b[0;32m    399\u001b[0m         \u001b[1;32mif\u001b[0m \u001b[0mn_features\u001b[0m \u001b[1;33m!=\u001b[0m \u001b[0mself\u001b[0m\u001b[1;33m.\u001b[0m\u001b[0mn_features_in_\u001b[0m\u001b[1;33m:\u001b[0m\u001b[1;33m\u001b[0m\u001b[1;33m\u001b[0m\u001b[0m\n\u001b[1;32m--> 400\u001b[1;33m             raise ValueError(\n\u001b[0m\u001b[0;32m    401\u001b[0m                 \u001b[1;34mf\"X has {n_features} features, but {self.__class__.__name__} \"\u001b[0m\u001b[1;33m\u001b[0m\u001b[1;33m\u001b[0m\u001b[0m\n\u001b[0;32m    402\u001b[0m                 \u001b[1;34mf\"is expecting {self.n_features_in_} features as input.\"\u001b[0m\u001b[1;33m\u001b[0m\u001b[1;33m\u001b[0m\u001b[0m\n",
      "\u001b[1;31mValueError\u001b[0m: X has 136 features, but DecisionTreeRegressor is expecting 10 features as input."
     ]
    }
   ],
   "source": [
    "dt.predict(X_train)"
   ]
  },
  {
   "cell_type": "code",
   "execution_count": 22,
   "id": "44a218f2",
   "metadata": {},
   "outputs": [
    {
     "data": {
      "text/plain": [
       "array([0, 1, 2, 3, 4])"
      ]
     },
     "execution_count": 22,
     "metadata": {},
     "output_type": "execute_result"
    }
   ],
   "source": [
    "np.arange(5)"
   ]
  },
  {
   "cell_type": "code",
   "execution_count": null,
   "id": "87e999d1",
   "metadata": {},
   "outputs": [],
   "source": []
  }
 ],
 "metadata": {
  "kernelspec": {
   "display_name": "Python 3 (ipykernel)",
   "language": "python",
   "name": "python3"
  },
  "language_info": {
   "codemirror_mode": {
    "name": "ipython",
    "version": 3
   },
   "file_extension": ".py",
   "mimetype": "text/x-python",
   "name": "python",
   "nbconvert_exporter": "python",
   "pygments_lexer": "ipython3",
   "version": "3.9.7"
  }
 },
 "nbformat": 4,
 "nbformat_minor": 5
}
