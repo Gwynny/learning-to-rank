{
 "cells": [
  {
   "cell_type": "code",
   "execution_count": 38,
   "id": "47940a84",
   "metadata": {},
   "outputs": [],
   "source": [
    "from math import log2\n",
    "import torch\n",
    "from torch import Tensor, sort\n",
    "\n",
    "\n",
    "def num_swapped_pairs(ys_true: Tensor, ys_pred: Tensor) -> int:\n",
    "    # допишите ваш код здесь\n",
    "    pass"
   ]
  },
  {
   "cell_type": "code",
   "execution_count": 85,
   "id": "edcb37ee",
   "metadata": {
    "scrolled": true
   },
   "outputs": [
    {
     "data": {
      "text/plain": [
       "(tensor([0.6482, 0.8414, 0.2008, 0.2685]),\n",
       " tensor([0.6633, 0.2312, 0.6744, 0.8802]))"
      ]
     },
     "execution_count": 85,
     "metadata": {},
     "output_type": "execute_result"
    }
   ],
   "source": [
    "ys_true = torch.rand(4)\n",
    "ys_pred = torch.rand(4)\n",
    "ys_true, ys_pred"
   ]
  },
  {
   "cell_type": "code",
   "execution_count": 86,
   "id": "30faeb0a",
   "metadata": {},
   "outputs": [
    {
     "data": {
      "text/plain": [
       "(tensor([0.8414, 0.6482, 0.2685, 0.2008]), tensor([1, 0, 3, 2]))"
      ]
     },
     "execution_count": 86,
     "metadata": {},
     "output_type": "execute_result"
    }
   ],
   "source": [
    "y_sort, indices = torch.sort(ys_true, descending=True)\n",
    "y_sort, indices"
   ]
  },
  {
   "cell_type": "code",
   "execution_count": 87,
   "id": "3ffacb78",
   "metadata": {},
   "outputs": [
    {
     "data": {
      "text/plain": [
       "tensor([0.2312, 0.6633, 0.8802, 0.6744])"
      ]
     },
     "execution_count": 87,
     "metadata": {},
     "output_type": "execute_result"
    }
   ],
   "source": [
    "ys_pred[indices]"
   ]
  },
  {
   "cell_type": "code",
   "execution_count": 88,
   "id": "e47adf8f",
   "metadata": {},
   "outputs": [
    {
     "data": {
      "text/plain": [
       "(tensor([0.2685, 0.2008, 0.6482, 0.8414]),\n",
       " tensor([0.8802, 0.6744, 0.6633, 0.2312]))"
      ]
     },
     "execution_count": 88,
     "metadata": {},
     "output_type": "execute_result"
    }
   ],
   "source": [
    "num_correct_pairs = 0\n",
    "ys_pred, indices = torch.sort(ys_pred, descending=True)\n",
    "ys_true = ys_true[indices]\n",
    "len_preds = len(ys_pred)\n",
    "for i in range(len_preds):\n",
    "    if i==len_preds-1:\n",
    "        break\n",
    "    for j in range(i+1, len_preds):\n",
    "        if ys_true[i] > ys_true[j]:\n",
    "            num_correct_pairs += 1\n",
    "ys_true, ys_pred"
   ]
  },
  {
   "cell_type": "code",
   "execution_count": 89,
   "id": "9a52855a",
   "metadata": {},
   "outputs": [
    {
     "data": {
      "text/plain": [
       "1"
      ]
     },
     "execution_count": 89,
     "metadata": {},
     "output_type": "execute_result"
    }
   ],
   "source": [
    "num_correct_pairs"
   ]
  },
  {
   "cell_type": "code",
   "execution_count": 44,
   "id": "621be247",
   "metadata": {},
   "outputs": [],
   "source": [
    "def compute_gain(y_value: float, gain_scheme: str) -> float: # зачем exp\n",
    "    return y_value if gain_scheme=='const' else 2**y_value - 1"
   ]
  },
  {
   "cell_type": "code",
   "execution_count": 45,
   "id": "57c1394d",
   "metadata": {},
   "outputs": [
    {
     "data": {
      "text/plain": [
       "2"
      ]
     },
     "execution_count": 45,
     "metadata": {},
     "output_type": "execute_result"
    }
   ],
   "source": [
    "compute_gain(2, 'const')"
   ]
  },
  {
   "cell_type": "code",
   "execution_count": 46,
   "id": "edb5e2b2",
   "metadata": {},
   "outputs": [
    {
     "data": {
      "text/plain": [
       "3"
      ]
     },
     "execution_count": 46,
     "metadata": {},
     "output_type": "execute_result"
    }
   ],
   "source": [
    "compute_gain(2, 'exp')"
   ]
  },
  {
   "cell_type": "code",
   "execution_count": 103,
   "id": "628a8ea1",
   "metadata": {},
   "outputs": [],
   "source": [
    "def dcg(ys_true: Tensor, ys_pred: Tensor, gain_scheme: str) -> float:\n",
    "    ys_pred, indices = torch.sort(ys_pred, descending=True)\n",
    "    ys_true = ys_true[indices]\n",
    "\n",
    "    sum_dcg = 0\n",
    "    for i, y_true in enumerate(ys_true):\n",
    "        gain = compute_gain(y_true, gain_scheme)\n",
    "        sum_dcg += gain / log2(i + 2)\n",
    "    return sum_dcg"
   ]
  },
  {
   "cell_type": "code",
   "execution_count": 111,
   "id": "b52f2d49",
   "metadata": {},
   "outputs": [
    {
     "data": {
      "text/plain": [
       "(tensor([3., 1., 2., 1., 3.]),\n",
       " tensor([0.9683, 0.6117, 0.9045, 0.6148, 0.3598]))"
      ]
     },
     "execution_count": 111,
     "metadata": {},
     "output_type": "execute_result"
    }
   ],
   "source": [
    "ys_true = torch.FloatTensor([3.0, 1.0, 2.0, 1.0, 3.0])\n",
    "ys_pred = torch.rand(5)\n",
    "ys_true, ys_pred"
   ]
  },
  {
   "cell_type": "code",
   "execution_count": 112,
   "id": "8e1aff03",
   "metadata": {},
   "outputs": [
    {
     "data": {
      "text/plain": [
       "(tensor([3., 2., 1., 1., 3.]),\n",
       " tensor([0.9683, 0.9045, 0.6148, 0.6117, 0.3598]))"
      ]
     },
     "execution_count": 112,
     "metadata": {},
     "output_type": "execute_result"
    }
   ],
   "source": [
    "preds_, indices = torch.sort(ys_pred, descending=True)\n",
    "trues_ = ys_true[indices]\n",
    "trues_, preds_"
   ]
  },
  {
   "cell_type": "code",
   "execution_count": 113,
   "id": "655e02d6",
   "metadata": {},
   "outputs": [
    {
     "data": {
      "text/plain": [
       "tensor(6.3531)"
      ]
     },
     "execution_count": 113,
     "metadata": {},
     "output_type": "execute_result"
    }
   ],
   "source": [
    "dcg(ys_true, ys_pred, 'const')"
   ]
  },
  {
   "cell_type": "code",
   "execution_count": 114,
   "id": "cc6028a7",
   "metadata": {},
   "outputs": [
    {
     "data": {
      "text/plain": [
       "tensor(12.5314)"
      ]
     },
     "execution_count": 114,
     "metadata": {},
     "output_type": "execute_result"
    }
   ],
   "source": [
    "dcg(ys_true, ys_pred, 'exp')"
   ]
  },
  {
   "cell_type": "code",
   "execution_count": 115,
   "id": "71ff9b04",
   "metadata": {},
   "outputs": [],
   "source": [
    "def ndcg(ys_true: Tensor, ys_pred: Tensor, gain_scheme: str = 'const') -> float:\n",
    "    case_dcg = dcg(ys_true, ys_pred, gain_scheme)\n",
    "    ideal_dcg = dcg(ys_true, ys_true, gain_scheme)\n",
    "    return case_dcg / ideal_dcg"
   ]
  },
  {
   "cell_type": "code",
   "execution_count": 116,
   "id": "e2ac5a4c",
   "metadata": {},
   "outputs": [
    {
     "data": {
      "text/plain": [
       "(tensor([3., 1., 2., 1., 3.]),\n",
       " tensor([0.9683, 0.6117, 0.9045, 0.6148, 0.3598]))"
      ]
     },
     "execution_count": 116,
     "metadata": {},
     "output_type": "execute_result"
    }
   ],
   "source": [
    "ys_true, ys_pred"
   ]
  },
  {
   "cell_type": "code",
   "execution_count": 117,
   "id": "5388a5de",
   "metadata": {},
   "outputs": [
    {
     "data": {
      "text/plain": [
       "(tensor([3., 2., 1., 1., 3.]),\n",
       " tensor([0.9683, 0.9045, 0.6148, 0.6117, 0.3598]))"
      ]
     },
     "execution_count": 117,
     "metadata": {},
     "output_type": "execute_result"
    }
   ],
   "source": [
    "trues_, preds_"
   ]
  },
  {
   "cell_type": "code",
   "execution_count": 118,
   "id": "ee4e3b08",
   "metadata": {},
   "outputs": [
    {
     "data": {
      "text/plain": [
       "tensor(0.9468)"
      ]
     },
     "execution_count": 118,
     "metadata": {},
     "output_type": "execute_result"
    }
   ],
   "source": [
    "ndcg(ys_true, ys_pred, 'const')"
   ]
  },
  {
   "cell_type": "code",
   "execution_count": 119,
   "id": "280699a1",
   "metadata": {},
   "outputs": [
    {
     "data": {
      "text/plain": [
       "tensor(0.9124)"
      ]
     },
     "execution_count": 119,
     "metadata": {},
     "output_type": "execute_result"
    }
   ],
   "source": [
    "ndcg(ys_true, ys_pred, 'exp')"
   ]
  },
  {
   "cell_type": "code",
   "execution_count": null,
   "id": "143680b4",
   "metadata": {},
   "outputs": [],
   "source": []
  }
 ],
 "metadata": {
  "kernelspec": {
   "display_name": "Python 3 (ipykernel)",
   "language": "python",
   "name": "python3"
  },
  "language_info": {
   "codemirror_mode": {
    "name": "ipython",
    "version": 3
   },
   "file_extension": ".py",
   "mimetype": "text/x-python",
   "name": "python",
   "nbconvert_exporter": "python",
   "pygments_lexer": "ipython3",
   "version": "3.9.7"
  }
 },
 "nbformat": 4,
 "nbformat_minor": 5
}
