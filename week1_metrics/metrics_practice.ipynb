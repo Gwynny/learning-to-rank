{
 "cells": [
  {
   "cell_type": "code",
   "execution_count": 4,
   "id": "47940a84",
   "metadata": {},
   "outputs": [],
   "source": [
    "import torch\n",
    "from math import log2\n",
    "from torch import Tensor, sort"
   ]
  },
  {
   "cell_type": "code",
   "execution_count": 5,
   "id": "3d646ba9",
   "metadata": {},
   "outputs": [],
   "source": [
    "def num_swapped_pairs(ys_true: Tensor, ys_pred: Tensor) -> int:\n",
    "    # code here\n",
    "    pass"
   ]
  },
  {
   "cell_type": "code",
   "execution_count": 6,
   "id": "edcb37ee",
   "metadata": {
    "scrolled": true
   },
   "outputs": [
    {
     "data": {
      "text/plain": [
       "(tensor([0.1914, 0.0989, 0.5567, 0.9545]),\n",
       " tensor([0.8793, 0.3513, 0.2643, 0.7537]))"
      ]
     },
     "execution_count": 6,
     "metadata": {},
     "output_type": "execute_result"
    }
   ],
   "source": [
    "ys_true = torch.rand(4)\n",
    "ys_pred = torch.rand(4)\n",
    "ys_true, ys_pred"
   ]
  },
  {
   "cell_type": "code",
   "execution_count": 8,
   "id": "30faeb0a",
   "metadata": {},
   "outputs": [
    {
     "data": {
      "text/plain": [
       "(tensor([0.8793, 0.7537, 0.3513, 0.2643]), tensor([0, 3, 1, 2]))"
      ]
     },
     "execution_count": 8,
     "metadata": {},
     "output_type": "execute_result"
    }
   ],
   "source": [
    "y_sort, indices = torch.sort(ys_pred, descending=True)\n",
    "y_sort, indices"
   ]
  },
  {
   "cell_type": "code",
   "execution_count": 9,
   "id": "3ffacb78",
   "metadata": {},
   "outputs": [
    {
     "data": {
      "text/plain": [
       "tensor([0.1914, 0.9545, 0.0989, 0.5567])"
      ]
     },
     "execution_count": 9,
     "metadata": {},
     "output_type": "execute_result"
    }
   ],
   "source": [
    "ys_true[indices]"
   ]
  },
  {
   "cell_type": "code",
   "execution_count": 10,
   "id": "e47adf8f",
   "metadata": {},
   "outputs": [
    {
     "data": {
      "text/plain": [
       "(tensor([0.1914, 0.9545, 0.0989, 0.5567]),\n",
       " tensor([0.8793, 0.7537, 0.3513, 0.2643]))"
      ]
     },
     "execution_count": 10,
     "metadata": {},
     "output_type": "execute_result"
    }
   ],
   "source": [
    "ys_pred, indices = torch.sort(ys_pred, descending=True)\n",
    "ys_true = ys_true[indices]\n",
    "\n",
    "num_correct_pairs = 0\n",
    "len_preds = len(ys_pred)\n",
    "for i in range(len_preds):\n",
    "    if i==len_preds-1:\n",
    "        break\n",
    "    for j in range(i+1, len_preds):\n",
    "        if ys_true[i] > ys_true[j]:\n",
    "            num_correct_pairs += 1\n",
    "ys_true, ys_pred"
   ]
  },
  {
   "cell_type": "code",
   "execution_count": 11,
   "id": "9a52855a",
   "metadata": {},
   "outputs": [
    {
     "data": {
      "text/plain": [
       "3"
      ]
     },
     "execution_count": 11,
     "metadata": {},
     "output_type": "execute_result"
    }
   ],
   "source": [
    "num_correct_pairs"
   ]
  },
  {
   "cell_type": "code",
   "execution_count": 12,
   "id": "621be247",
   "metadata": {},
   "outputs": [],
   "source": [
    "def compute_gain(y_value: float, gain_scheme: str) -> float: # зачем exp\n",
    "    return y_value if gain_scheme=='const' else 2**y_value - 1"
   ]
  },
  {
   "cell_type": "code",
   "execution_count": 13,
   "id": "57c1394d",
   "metadata": {},
   "outputs": [
    {
     "data": {
      "text/plain": [
       "2"
      ]
     },
     "execution_count": 13,
     "metadata": {},
     "output_type": "execute_result"
    }
   ],
   "source": [
    "compute_gain(2, 'const')"
   ]
  },
  {
   "cell_type": "code",
   "execution_count": 14,
   "id": "edb5e2b2",
   "metadata": {},
   "outputs": [
    {
     "data": {
      "text/plain": [
       "3"
      ]
     },
     "execution_count": 14,
     "metadata": {},
     "output_type": "execute_result"
    }
   ],
   "source": [
    "compute_gain(2, 'exp')"
   ]
  },
  {
   "cell_type": "code",
   "execution_count": 15,
   "id": "628a8ea1",
   "metadata": {},
   "outputs": [],
   "source": [
    "def dcg(ys_true: Tensor, ys_pred: Tensor, gain_scheme: str) -> float:\n",
    "    ys_pred, indices = torch.sort(ys_pred, descending=True)\n",
    "    ys_true = ys_true[indices]\n",
    "\n",
    "    sum_dcg = 0\n",
    "    for i, y_true in enumerate(ys_true):\n",
    "        gain = compute_gain(y_true, gain_scheme)\n",
    "        sum_dcg += gain / log2(i + 2)\n",
    "    return sum_dcg"
   ]
  },
  {
   "cell_type": "code",
   "execution_count": 16,
   "id": "b52f2d49",
   "metadata": {},
   "outputs": [
    {
     "data": {
      "text/plain": [
       "(tensor([3., 1., 2., 1., 3.]),\n",
       " tensor([0.9367, 0.4576, 0.4359, 0.8286, 0.4015]))"
      ]
     },
     "execution_count": 16,
     "metadata": {},
     "output_type": "execute_result"
    }
   ],
   "source": [
    "ys_true = torch.FloatTensor([3.0, 1.0, 2.0, 1.0, 3.0])\n",
    "ys_pred = torch.rand(5)\n",
    "ys_true, ys_pred"
   ]
  },
  {
   "cell_type": "code",
   "execution_count": 17,
   "id": "8e1aff03",
   "metadata": {},
   "outputs": [
    {
     "data": {
      "text/plain": [
       "(tensor([3., 1., 1., 2., 3.]),\n",
       " tensor([0.9367, 0.8286, 0.4576, 0.4359, 0.4015]))"
      ]
     },
     "execution_count": 17,
     "metadata": {},
     "output_type": "execute_result"
    }
   ],
   "source": [
    "preds_, indices = torch.sort(ys_pred, descending=True)\n",
    "trues_ = ys_true[indices]\n",
    "trues_, preds_"
   ]
  },
  {
   "cell_type": "code",
   "execution_count": 18,
   "id": "655e02d6",
   "metadata": {},
   "outputs": [
    {
     "data": {
      "text/plain": [
       "tensor(6.1528)"
      ]
     },
     "execution_count": 18,
     "metadata": {},
     "output_type": "execute_result"
    }
   ],
   "source": [
    "dcg(ys_true, ys_pred, 'const')"
   ]
  },
  {
   "cell_type": "code",
   "execution_count": 19,
   "id": "cc6028a7",
   "metadata": {},
   "outputs": [
    {
     "data": {
      "text/plain": [
       "tensor(12.1309)"
      ]
     },
     "execution_count": 19,
     "metadata": {},
     "output_type": "execute_result"
    }
   ],
   "source": [
    "dcg(ys_true, ys_pred, 'exp')"
   ]
  },
  {
   "cell_type": "code",
   "execution_count": 20,
   "id": "71ff9b04",
   "metadata": {},
   "outputs": [],
   "source": [
    "def ndcg(ys_true: Tensor, ys_pred: Tensor, gain_scheme: str = 'const') -> float:\n",
    "    case_dcg = dcg(ys_true, ys_pred, gain_scheme)\n",
    "    ideal_dcg = dcg(ys_true, ys_true, gain_scheme)\n",
    "    return case_dcg / ideal_dcg"
   ]
  },
  {
   "cell_type": "code",
   "execution_count": 21,
   "id": "e2ac5a4c",
   "metadata": {},
   "outputs": [
    {
     "data": {
      "text/plain": [
       "(tensor([3., 1., 2., 1., 3.]),\n",
       " tensor([0.9367, 0.4576, 0.4359, 0.8286, 0.4015]))"
      ]
     },
     "execution_count": 21,
     "metadata": {},
     "output_type": "execute_result"
    }
   ],
   "source": [
    "ys_true, ys_pred"
   ]
  },
  {
   "cell_type": "code",
   "execution_count": 22,
   "id": "5388a5de",
   "metadata": {},
   "outputs": [
    {
     "data": {
      "text/plain": [
       "(tensor([3., 1., 1., 2., 3.]),\n",
       " tensor([0.9367, 0.8286, 0.4576, 0.4359, 0.4015]))"
      ]
     },
     "execution_count": 22,
     "metadata": {},
     "output_type": "execute_result"
    }
   ],
   "source": [
    "trues_, preds_"
   ]
  },
  {
   "cell_type": "code",
   "execution_count": 23,
   "id": "ee4e3b08",
   "metadata": {},
   "outputs": [
    {
     "data": {
      "text/plain": [
       "tensor(0.9169)"
      ]
     },
     "execution_count": 23,
     "metadata": {},
     "output_type": "execute_result"
    }
   ],
   "source": [
    "ndcg(ys_true, ys_pred, 'const')"
   ]
  },
  {
   "cell_type": "code",
   "execution_count": 24,
   "id": "280699a1",
   "metadata": {},
   "outputs": [
    {
     "data": {
      "text/plain": [
       "tensor(0.8833)"
      ]
     },
     "execution_count": 24,
     "metadata": {},
     "output_type": "execute_result"
    }
   ],
   "source": [
    "ndcg(ys_true, ys_pred, 'exp')"
   ]
  },
  {
   "cell_type": "code",
   "execution_count": 30,
   "id": "143680b4",
   "metadata": {},
   "outputs": [],
   "source": [
    "def precission_at_k(ys_true: Tensor, ys_pred: Tensor, k: int) -> float:\n",
    "    infs = Tensor([float('-inf')] * (len(ys_true) - len(ys_pred)))\n",
    "    ys_pred = torch.cat((ys_pred, infs))\n",
    "    ys_pred, indices = torch.sort(ys_pred, descending=True)\n",
    "    ys_true = ys_true[indices]\n",
    "    \n",
    "    pr_at_k = ys_true[:k].sum().item() / k\n",
    "    return pr_at_k if pr_at_k != 0 else -1"
   ]
  },
  {
   "cell_type": "code",
   "execution_count": 31,
   "id": "f69cc006",
   "metadata": {},
   "outputs": [
    {
     "data": {
      "text/plain": [
       "(tensor([1, 1, 0, 1, 1]), tensor([0.8868, 0.0735, 0.1343, 0.1117, 0.0245]))"
      ]
     },
     "execution_count": 31,
     "metadata": {},
     "output_type": "execute_result"
    }
   ],
   "source": [
    "ys_true = torch.randint(0, 2, (5,))\n",
    "ys_pred = torch.rand(5)\n",
    "ys_true, ys_pred"
   ]
  },
  {
   "cell_type": "code",
   "execution_count": 32,
   "id": "0bdaec61",
   "metadata": {},
   "outputs": [
    {
     "data": {
      "text/plain": [
       "(tensor([1, 0, 1, 1, 1]), tensor([0.8868, 0.1343, 0.1117, 0.0735, 0.0245]))"
      ]
     },
     "execution_count": 32,
     "metadata": {},
     "output_type": "execute_result"
    }
   ],
   "source": [
    "preds_, indices = torch.sort(ys_pred, descending=True)\n",
    "trues_ = ys_true[indices]\n",
    "trues_, preds_"
   ]
  },
  {
   "cell_type": "code",
   "execution_count": 33,
   "id": "73fd145a",
   "metadata": {},
   "outputs": [],
   "source": [
    "k = 10"
   ]
  },
  {
   "cell_type": "code",
   "execution_count": 34,
   "id": "4b5ba97a",
   "metadata": {},
   "outputs": [
    {
     "data": {
      "text/plain": [
       "5"
      ]
     },
     "execution_count": 34,
     "metadata": {},
     "output_type": "execute_result"
    }
   ],
   "source": [
    "k = k if k < len(ys_true) else len(ys_true)"
   ]
  },
  {
   "cell_type": "code",
   "execution_count": 143,
   "id": "6a8d6f81",
   "metadata": {},
   "outputs": [],
   "source": [
    "ext_ = Tensor([float('-inf')] * (len(trues_) - len(preds_)))"
   ]
  },
  {
   "cell_type": "code",
   "execution_count": 144,
   "id": "7c1b6586",
   "metadata": {},
   "outputs": [
    {
     "data": {
      "text/plain": [
       "torch.Size([5])"
      ]
     },
     "execution_count": 144,
     "metadata": {},
     "output_type": "execute_result"
    }
   ],
   "source": [
    "torch.cat((preds_, ext_))"
   ]
  },
  {
   "cell_type": "code",
   "execution_count": 49,
   "id": "4811cf00",
   "metadata": {},
   "outputs": [
    {
     "data": {
      "text/plain": [
       "0.4"
      ]
     },
     "execution_count": 49,
     "metadata": {},
     "output_type": "execute_result"
    }
   ],
   "source": [
    "trues_[:k].sum().item() / k"
   ]
  },
  {
   "cell_type": "code",
   "execution_count": 50,
   "id": "5fcd1f58",
   "metadata": {},
   "outputs": [
    {
     "data": {
      "text/plain": [
       "(tensor([0., 1., 0., 1.]), tensor([0.7651, 0.7647, 0.4005, 0.3113]))"
      ]
     },
     "execution_count": 50,
     "metadata": {},
     "output_type": "execute_result"
    }
   ],
   "source": [
    "preds_, indices = torch.sort(ys_pred, descending=True)\n",
    "trues_ = ys_true[indices]\n",
    "trues_, preds_"
   ]
  },
  {
   "cell_type": "code",
   "execution_count": 51,
   "id": "557f9c82",
   "metadata": {},
   "outputs": [
    {
     "data": {
      "text/plain": [
       "0.3333333333333333"
      ]
     },
     "execution_count": 51,
     "metadata": {},
     "output_type": "execute_result"
    }
   ],
   "source": [
    "precission_at_k(ys_true, ys_pred, 3)"
   ]
  },
  {
   "cell_type": "code",
   "execution_count": 163,
   "id": "c020ec37",
   "metadata": {},
   "outputs": [],
   "source": [
    "def reciprocal_rank(ys_true: Tensor, ys_pred: Tensor) -> float:\n",
    "    ys_pred, indices = sort(ys_pred, descending=True)\n",
    "    ys_true = ys_true[indices]\n",
    "    ind_one = (ys_true == 1).nonzero(as_tuple=True)[0].item()\n",
    "    return 1 / (ind_one + 1)"
   ]
  },
  {
   "cell_type": "code",
   "execution_count": 164,
   "id": "3bc6f704",
   "metadata": {},
   "outputs": [
    {
     "data": {
      "text/plain": [
       "(tensor([0., 0., 1., 0., 0.]),\n",
       " tensor([0.8786, 0.8720, 0.5850, 0.6146, 0.1629]))"
      ]
     },
     "execution_count": 164,
     "metadata": {},
     "output_type": "execute_result"
    }
   ],
   "source": [
    "ys_true = torch.Tensor([0, 0, 1, 0, 0])\n",
    "ys_pred = torch.rand(5)\n",
    "ys_true, ys_pred"
   ]
  },
  {
   "cell_type": "code",
   "execution_count": 165,
   "id": "e1e2ea21",
   "metadata": {},
   "outputs": [
    {
     "data": {
      "text/plain": [
       "0.25"
      ]
     },
     "execution_count": 165,
     "metadata": {},
     "output_type": "execute_result"
    }
   ],
   "source": [
    "reciprocal_rank(ys_true, ys_pred)"
   ]
  },
  {
   "cell_type": "code",
   "execution_count": 193,
   "id": "dcdcaa82",
   "metadata": {},
   "outputs": [],
   "source": [
    "def p_found(ys_true: Tensor, ys_pred: Tensor, p_break: float = 0.15 ) -> float:\n",
    "    ys_pred, indices = sort(ys_pred, descending=True)\n",
    "    ys_true = ys_true[indices]\n",
    "    \n",
    "    def calc_i_p_found(pred_p_look, pred_p_found, i, p_break):\n",
    "        if pred_p_look == 0 or i > len(ys_true) - 1:\n",
    "            return pred_p_found\n",
    "        \n",
    "        i_p_look = pred_p_look * (1 - ys_true[i-1].item()) * (1 - p_break)\n",
    "        i_p_found = i_p_look * ys_true[i].item()\n",
    "        return pred_p_found + calc_i_p_found(i_p_look, i_p_found, i + 1, p_break)\n",
    "    \n",
    "    i = 0\n",
    "    zero_p_look = (1 - p_break)\n",
    "    zero_p_found = zero_p_look * ys_true[0].item()\n",
    "    return calc_i_p_found(zero_p_look, zero_p_found, i+1, p_break)\n",
    "                            "
   ]
  },
  {
   "cell_type": "code",
   "execution_count": 208,
   "id": "547ddfad",
   "metadata": {},
   "outputs": [
    {
     "data": {
      "text/plain": [
       "(tensor([0.1997, 0.7797, 0.0721, 0.2334, 0.7874, 0.3536, 0.8629, 0.3887, 0.5590]),\n",
       " tensor([0.1834, 0.6663, 0.6942, 0.0840, 0.5720, 0.9291, 0.5139, 0.4721, 0.3459]))"
      ]
     },
     "execution_count": 208,
     "metadata": {},
     "output_type": "execute_result"
    }
   ],
   "source": [
    "ys_true = torch.rand(9)\n",
    "ys_pred = torch.rand(9)\n",
    "ys_true, ys_pred"
   ]
  },
  {
   "cell_type": "code",
   "execution_count": 209,
   "id": "2a9f8b10",
   "metadata": {},
   "outputs": [
    {
     "data": {
      "text/plain": [
       "(tensor([0.3536, 0.0721, 0.7797, 0.7874, 0.8629, 0.3887, 0.5590, 0.1997, 0.2334]),\n",
       " tensor([0.9291, 0.6942, 0.6663, 0.5720, 0.5139, 0.4721, 0.3459, 0.1834, 0.0840]))"
      ]
     },
     "execution_count": 209,
     "metadata": {},
     "output_type": "execute_result"
    }
   ],
   "source": [
    "preds_, indices = torch.sort(ys_pred, descending=True)\n",
    "trues_ = ys_true[indices]\n",
    "trues_, preds_"
   ]
  },
  {
   "cell_type": "code",
   "execution_count": 210,
   "id": "6587717f",
   "metadata": {},
   "outputs": [
    {
     "data": {
      "text/plain": [
       "tensor(0.1997)"
      ]
     },
     "execution_count": 210,
     "metadata": {},
     "output_type": "execute_result"
    }
   ],
   "source": [
    "ys_true[0]"
   ]
  },
  {
   "cell_type": "code",
   "execution_count": 211,
   "id": "6cc9dafb",
   "metadata": {},
   "outputs": [
    {
     "name": "stdout",
     "output_type": "stream",
     "text": [
      "0.687580198514499\n"
     ]
    }
   ],
   "source": [
    "p_found(ys_true, ys_pred)"
   ]
  },
  {
   "cell_type": "code",
   "execution_count": null,
   "id": "25ba0da9",
   "metadata": {},
   "outputs": [],
   "source": []
  },
  {
   "cell_type": "code",
   "execution_count": 35,
   "id": "ed9e111b",
   "metadata": {},
   "outputs": [],
   "source": [
    "def average_precision(ys_true: Tensor, ys_pred: Tensor) -> float:\n",
    "    # допишите ваш код здесь\n",
    "    pass"
   ]
  },
  {
   "cell_type": "code",
   "execution_count": 44,
   "id": "bd22c0d4",
   "metadata": {},
   "outputs": [
    {
     "data": {
      "text/plain": [
       "(tensor([1., 1., 0., 0.]), tensor([0.7647, 0.3113, 0.7651, 0.4005]))"
      ]
     },
     "execution_count": 44,
     "metadata": {},
     "output_type": "execute_result"
    }
   ],
   "source": [
    "ys_true = torch.Tensor([1, 1, 0, 0])\n",
    "ys_pred = torch.rand(4)\n",
    "ys_true, ys_pred"
   ]
  },
  {
   "cell_type": "code",
   "execution_count": 45,
   "id": "a8b78620",
   "metadata": {},
   "outputs": [
    {
     "data": {
      "text/plain": [
       "(tensor([0., 1., 0., 1.]), tensor([0.7651, 0.7647, 0.4005, 0.3113]))"
      ]
     },
     "execution_count": 45,
     "metadata": {},
     "output_type": "execute_result"
    }
   ],
   "source": [
    "preds_, indices = torch.sort(ys_pred, descending=True)\n",
    "trues_ = ys_true[indices]\n",
    "trues_, preds_"
   ]
  },
  {
   "cell_type": "code",
   "execution_count": 48,
   "id": "63fe9c19",
   "metadata": {},
   "outputs": [
    {
     "name": "stdout",
     "output_type": "stream",
     "text": [
      "tensor([0.])\n",
      "tensor([0., 1.])\n",
      "tensor([0., 1., 0.])\n",
      "tensor([0., 1., 0., 1.])\n"
     ]
    }
   ],
   "source": [
    "ap = 0\n",
    "for i in range(len(trues_)):\n",
    "    print(trues_[:i+1])\n",
    "    if trues_[i].item() == 1:\n",
    "        ap += trues_[:i+1].sum().item() / (i + 1)\n",
    "ap = ap / trues_.sum().item()"
   ]
  },
  {
   "cell_type": "code",
   "execution_count": 47,
   "id": "5902201f",
   "metadata": {},
   "outputs": [
    {
     "data": {
      "text/plain": [
       "0.5"
      ]
     },
     "execution_count": 47,
     "metadata": {},
     "output_type": "execute_result"
    }
   ],
   "source": [
    "ap"
   ]
  }
 ],
 "metadata": {
  "kernelspec": {
   "display_name": "Python 3 (ipykernel)",
   "language": "python",
   "name": "python3"
  },
  "language_info": {
   "codemirror_mode": {
    "name": "ipython",
    "version": 3
   },
   "file_extension": ".py",
   "mimetype": "text/x-python",
   "name": "python",
   "nbconvert_exporter": "python",
   "pygments_lexer": "ipython3",
   "version": "3.9.7"
  }
 },
 "nbformat": 4,
 "nbformat_minor": 5
}
