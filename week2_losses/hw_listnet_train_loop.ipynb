{
 "cells": [
  {
   "cell_type": "code",
   "execution_count": 135,
   "id": "b4e77aab",
   "metadata": {},
   "outputs": [],
   "source": [
    "import math\n",
    "\n",
    "import numpy as np\n",
    "import torch\n",
    "from catboost.datasets import msrank_10k\n",
    "from sklearn.preprocessing import StandardScaler\n",
    "from torch import nn\n",
    "\n",
    "from typing import List\n",
    "\n",
    "\n",
    "class ListNet(torch.nn.Module):\n",
    "    def __init__(self, num_input_features: int, hidden_dim: int):\n",
    "        super().__init__()\n",
    "        self.hidden_dim = hidden_dim\n",
    "        # укажите архитектуру простой модели здесь\n",
    "        self.model = nn.Sequential(\n",
    "            nn.Linear(num_input_features, hidden_dim),\n",
    "            nn.BatchNorm1d(hidden_dim),\n",
    "            nn.ReLU(),\n",
    "            nn.Dropout(p=0.3),\n",
    "            nn.Linear(hidden_dim, 1),\n",
    "        )\n",
    "\n",
    "    def forward(self, input_1: torch.Tensor) -> torch.Tensor:\n",
    "        logits = self.model(input_1)\n",
    "        return logits\n",
    "\n",
    "\n",
    "class Solution:\n",
    "    def __init__(self, n_epochs: int = 20, listnet_hidden_dim: int = 30,\n",
    "                 lr: float = 0.001, ndcg_top_k: int = 10):\n",
    "        self._prepare_data()\n",
    "        self.num_input_features = self.X_train.shape[1]\n",
    "        self.ndcg_top_k = ndcg_top_k\n",
    "        self.n_epochs = n_epochs\n",
    "\n",
    "        self.model = self._create_model(\n",
    "            self.num_input_features, listnet_hidden_dim\n",
    "        )\n",
    "        self.optimizer = torch.optim.Adam(self.model.parameters(), lr=lr)\n",
    "\n",
    "    def _get_data(self) -> List[np.ndarray]:\n",
    "        train_df, test_df = msrank_10k()\n",
    "\n",
    "        X_train = train_df.drop([0, 1], axis=1).values\n",
    "        y_train = train_df[0].values\n",
    "        query_ids_train = train_df[1].values.astype(int)\n",
    "\n",
    "        X_test = test_df.drop([0, 1], axis=1).values\n",
    "        y_test = test_df[0].values\n",
    "        query_ids_test = test_df[1].values.astype(int)\n",
    "\n",
    "        return [X_train, y_train, query_ids_train, X_test, y_test, query_ids_test]\n",
    "\n",
    "    def _prepare_data(self) -> None:\n",
    "        (X_train, y_train, self.query_ids_train,\n",
    "            X_test, y_test, self.query_ids_test) = self._get_data()\n",
    "        # допишите ваш код здесь\n",
    "        X_train = self._scale_features_in_query_groups(\n",
    "            X_train, self.query_ids_train\n",
    "        )\n",
    "        X_test = self._scale_features_in_query_groups(\n",
    "            X_test, self.query_ids_test\n",
    "        )\n",
    "\n",
    "        self.X_train = torch.from_numpy(X_train).type(torch.FloatTensor)\n",
    "        self.ys_train = torch.from_numpy(y_train).type(torch.FloatTensor)\n",
    "        self.X_test = torch.from_numpy(X_test).type(torch.FloatTensor)\n",
    "        self.ys_test = torch.from_numpy(y_test).type(torch.FloatTensor)\n",
    "\n",
    "    def _scale_features_in_query_groups(self, inp_feat_array: np.ndarray,\n",
    "                                        inp_query_ids: np.ndarray) -> np.ndarray:\n",
    "        # допишите ваш код здесь\n",
    "        scaler = StandardScaler()\n",
    "        scaled_arrays = []\n",
    "        for query_id in np.unique(inp_query_ids):\n",
    "            scaled_part = scaler.fit_transform(\n",
    "                inp_feat_array[inp_query_ids == query_id]\n",
    "            )\n",
    "            scaled_arrays.append(scaled_part)\n",
    "        scaled_X = np.concatenate(scaled_arrays, axis=0)\n",
    "        return scaled_X\n",
    "\n",
    "    def _create_model(self, listnet_num_input_features: int,\n",
    "                      listnet_hidden_dim: int) -> torch.nn.Module:\n",
    "        torch.manual_seed(0)\n",
    "        # допишите ваш код здесь\n",
    "        net = ListNet(\n",
    "            listnet_num_input_features,\n",
    "            listnet_hidden_dim\n",
    "        )\n",
    "        return net\n",
    "\n",
    "    def fit(self) -> List[float]:\n",
    "        # допишите ваш код здесь\n",
    "        val_ndcgs = []\n",
    "        for _ in range(self.n_epochs):\n",
    "            self._train_one_epoch()\n",
    "            val_ndcgs.append(self._eval_test_set())\n",
    "        return val_ndcgs\n",
    "\n",
    "    def _calc_loss(self, batch_ys: torch.FloatTensor,\n",
    "                   batch_pred: torch.FloatTensor) -> torch.FloatTensor:\n",
    "        # допишите ваш код здесь\n",
    "        P_y_i = torch.softmax(batch_ys, dim=0)\n",
    "        P_z_i = torch.softmax(batch_pred, dim=0)\n",
    "        return -torch.sum(P_y_i * torch.log(P_z_i))\n",
    "\n",
    "    def _train_one_epoch(self) -> None:\n",
    "        self.model.train()\n",
    "        # допишите ваш код здесь\n",
    "        unique_queries = np.unique(self.query_ids_train)\n",
    "        np.random.shuffle(unique_queries)\n",
    "        batch_size = 16\n",
    "        \n",
    "        losses = []\n",
    "        for query_id in unique_queries:\n",
    "            group_X = self.X_train[self.query_ids_train == query_id]\n",
    "            group_y = self.ys_train[self.query_ids_train == query_id]\n",
    "        \n",
    "            idx = torch.randperm(len(group_X))\n",
    "            group_X = group_X[idx]\n",
    "            group_y = group_y[idx]\n",
    "            \n",
    "            cur_batch = 0\n",
    "            group_losses = []\n",
    "            for it in range(len(group_X) // batch_size):\n",
    "                batch_X = group_X[cur_batch: cur_batch + batch_size]\n",
    "                batch_y = group_y[cur_batch: cur_batch + batch_size]\n",
    "                cur_batch += batch_size\n",
    "\n",
    "                self.optimizer.zero_grad()\n",
    "                if len(batch_X) > 0:\n",
    "                    preds = self.model(batch_X)\n",
    "                    loss = self._calc_loss(batch_y, preds)\n",
    "                    loss.backward()\n",
    "                    self.optimizer.step()\n",
    "                    group_losses.append(loss.item())     \n",
    "            losses.append(np.mean(group_losses))\n",
    "        print(np.mean(losses))\n",
    "\n",
    "    def _eval_test_set(self) -> float:\n",
    "        with torch.no_grad():\n",
    "            self.model.eval()\n",
    "            unique_queries = np.unique(self.query_ids_test)\n",
    "            ndcgs = []\n",
    "            # допишите ваш код здесь\n",
    "            for query_id in unique_queries:\n",
    "                batch_X = self.X_test[self.query_ids_test == query_id]\n",
    "                batch_y = self.ys_test[self.query_ids_test == query_id]\n",
    "                y_pred = self.model(batch_X)\n",
    "                group_dcg = self._ndcg_k(batch_y, y_pred,\n",
    "                                         self.ndcg_top_k).item()\n",
    "                ndcgs.append(group_dcg)\n",
    "            return np.mean(ndcgs)\n",
    "\n",
    "    def _dcg(self, ys_true: torch.Tensor, ys_pred: torch.Tensor,\n",
    "             k: int) -> float:\n",
    "        ys_pred, indices = torch.sort(ys_pred, dim=0, descending=True)\n",
    "        ys_true = ys_true[indices]\n",
    "        sum_dcg = i = 0\n",
    "        k = min(len(ys_true), k)\n",
    "        while i < k:\n",
    "            sum_dcg += (2**ys_true[i] - 1) / math.log2(i + 2)\n",
    "            i += 1\n",
    "        return sum_dcg\n",
    "\n",
    "    def _ndcg_k(self, ys_true: torch.Tensor, ys_pred: torch.Tensor,\n",
    "                ndcg_top_k: int) -> float:\n",
    "        case_dcg = self._dcg(ys_true, ys_pred, ndcg_top_k)\n",
    "        ideal_dcg = self._dcg(ys_true, ys_true, ndcg_top_k)\n",
    "        return case_dcg / ideal_dcg\n"
   ]
  },
  {
   "cell_type": "code",
   "execution_count": 8,
   "id": "a1f8902c",
   "metadata": {},
   "outputs": [],
   "source": [
    "train_df, test_df = msrank_10k()\n",
    "X_train = train_df.drop([0, 1], axis=1).values\n",
    "y_train = train_df[0].values\n",
    "query_ids_train = train_df[1].values.astype(int)\n",
    "\n",
    "X_test = test_df.drop([0, 1], axis=1).values\n",
    "y_test = test_df[0].values\n",
    "query_ids_test = test_df[1].values.astype(int)"
   ]
  },
  {
   "cell_type": "code",
   "execution_count": 13,
   "id": "ee75ef42",
   "metadata": {},
   "outputs": [
    {
     "data": {
      "text/plain": [
       "array([   1,    1,    1, ..., 1291, 1291, 1291])"
      ]
     },
     "execution_count": 13,
     "metadata": {},
     "output_type": "execute_result"
    }
   ],
   "source": [
    "query_ids_train"
   ]
  },
  {
   "cell_type": "code",
   "execution_count": 14,
   "id": "73c763ed",
   "metadata": {},
   "outputs": [
    {
     "data": {
      "text/plain": [
       "array([   1,   16,   31,   46,   61,   76,   91,  106,  121,  136,  151,\n",
       "        166,  181,  196,  211,  226,  241,  256,  271,  286,  301,  316,\n",
       "        331,  346,  361,  376,  391,  406,  421,  436,  451,  466,  481,\n",
       "        496,  511,  526,  541,  556,  571,  586,  601,  616,  631,  646,\n",
       "        661,  676,  691,  706,  721,  736,  751,  766,  781,  796,  811,\n",
       "        826,  841,  856,  871,  886,  901,  916,  931,  946,  961,  976,\n",
       "        991, 1006, 1021, 1036, 1051, 1066, 1081, 1096, 1111, 1126, 1141,\n",
       "       1156, 1171, 1186, 1201, 1216, 1231, 1246, 1261, 1276, 1291])"
      ]
     },
     "execution_count": 14,
     "metadata": {},
     "output_type": "execute_result"
    }
   ],
   "source": [
    "np.unique(query_ids_train)"
   ]
  },
  {
   "cell_type": "code",
   "execution_count": 15,
   "id": "83729338",
   "metadata": {},
   "outputs": [
    {
     "data": {
      "text/plain": [
       "numpy.ndarray"
      ]
     },
     "execution_count": 15,
     "metadata": {},
     "output_type": "execute_result"
    }
   ],
   "source": [
    "type(query_ids_train)"
   ]
  },
  {
   "cell_type": "code",
   "execution_count": 16,
   "id": "cd986f63",
   "metadata": {
    "scrolled": false
   },
   "outputs": [
    {
     "data": {
      "text/plain": [
       "87"
      ]
     },
     "execution_count": 16,
     "metadata": {},
     "output_type": "execute_result"
    }
   ],
   "source": [
    "len(np.unique(query_ids_train))"
   ]
  },
  {
   "cell_type": "code",
   "execution_count": 17,
   "id": "43c59888",
   "metadata": {},
   "outputs": [
    {
     "data": {
      "text/plain": [
       "array([  13,   28,   43,   58,   73,   88,  103,  118,  133,  148,  163,\n",
       "        178,  193,  208,  223,  238,  253,  268,  283,  298,  313,  328,\n",
       "        343,  358,  373,  388,  403,  418,  433,  448,  463,  478,  493,\n",
       "        508,  523,  538,  553,  568,  583,  598,  613,  628,  643,  658,\n",
       "        673,  688,  703,  718,  733,  748,  763,  778,  793,  808,  823,\n",
       "        838,  853,  868,  883,  898,  913,  928,  943,  958,  973,  988,\n",
       "       1003, 1018, 1033, 1048, 1063, 1078, 1093, 1108, 1123, 1138, 1153,\n",
       "       1168, 1183, 1198, 1213, 1228, 1243, 1258, 1273, 1288, 1303, 1318])"
      ]
     },
     "execution_count": 17,
     "metadata": {},
     "output_type": "execute_result"
    }
   ],
   "source": [
    "np.unique(query_ids_test)"
   ]
  },
  {
   "cell_type": "code",
   "execution_count": 18,
   "id": "1f4f2772",
   "metadata": {},
   "outputs": [
    {
     "data": {
      "text/plain": [
       "array([[ 3. ,  3. ,  0. , ...,  0. ,  0. ,  0. ],\n",
       "       [ 3. ,  0. ,  3. , ...,  0. ,  0. ,  0. ],\n",
       "       [ 3. ,  0. ,  2. , ...,  0. ,  0. ,  0. ],\n",
       "       ...,\n",
       "       [ 3. ,  3. ,  3. , ...,  0. ,  0. ,  0. ],\n",
       "       [ 2. ,  0. ,  2. , ...,  0. , 20. , 42.6],\n",
       "       [ 3. ,  0. ,  3. , ...,  0. ,  0. ,  0. ]])"
      ]
     },
     "execution_count": 18,
     "metadata": {},
     "output_type": "execute_result"
    }
   ],
   "source": [
    "X_train[query_ids_train == 1]"
   ]
  },
  {
   "cell_type": "code",
   "execution_count": 19,
   "id": "81af5fdd",
   "metadata": {},
   "outputs": [
    {
     "data": {
      "text/plain": [
       "(10000, 136)"
      ]
     },
     "execution_count": 19,
     "metadata": {},
     "output_type": "execute_result"
    }
   ],
   "source": [
    "X_train.shape"
   ]
  },
  {
   "cell_type": "code",
   "execution_count": 20,
   "id": "7208ded7",
   "metadata": {},
   "outputs": [],
   "source": [
    "scaler = StandardScaler()"
   ]
  },
  {
   "cell_type": "code",
   "execution_count": 21,
   "id": "85133539",
   "metadata": {},
   "outputs": [],
   "source": [
    "scaled_arrays = []\n",
    "for query_id in np.unique(query_ids_train):\n",
    "    scaled_part = scaler.fit_transform(X_train[query_ids_train == query_id])\n",
    "    scaled_arrays.append(scaled_part)\n",
    "scaled_X_train = np.concatenate(scaled_arrays, axis=0)"
   ]
  },
  {
   "cell_type": "code",
   "execution_count": 25,
   "id": "431fc92c",
   "metadata": {},
   "outputs": [
    {
     "data": {
      "text/plain": [
       "87"
      ]
     },
     "execution_count": 25,
     "metadata": {},
     "output_type": "execute_result"
    }
   ],
   "source": [
    "len(scaled_arrays)"
   ]
  },
  {
   "cell_type": "code",
   "execution_count": 48,
   "id": "e959194a",
   "metadata": {
    "scrolled": false
   },
   "outputs": [
    {
     "data": {
      "text/plain": [
       "(10000, 136)"
      ]
     },
     "execution_count": 48,
     "metadata": {},
     "output_type": "execute_result"
    }
   ],
   "source": [
    "scaled_X_train.shape"
   ]
  },
  {
   "cell_type": "code",
   "execution_count": 26,
   "id": "8c3343cc",
   "metadata": {
    "scrolled": true
   },
   "outputs": [
    {
     "data": {
      "text/plain": [
       "array([[ 0.31606376,  4.81705177, -2.17593133, ..., -0.11175774,\n",
       "        -0.19593518, -0.26622504],\n",
       "       [ 0.31606376, -0.23497813,  0.61705515, ..., -0.11175774,\n",
       "        -0.19593518, -0.26622504],\n",
       "       [ 0.31606376, -0.23497813, -0.31394034, ..., -0.11175774,\n",
       "        -0.19593518, -0.26622504],\n",
       "       ...,\n",
       "       [ 0.31606376,  4.81705177,  0.61705515, ..., -0.11175774,\n",
       "        -0.19593518, -0.26622504],\n",
       "       [-1.28284703, -0.23497813, -0.31394034, ..., -0.11175774,\n",
       "        -0.07383065,  1.91992331],\n",
       "       [ 0.31606376, -0.23497813,  0.61705515, ..., -0.11175774,\n",
       "        -0.19593518, -0.26622504]])"
      ]
     },
     "execution_count": 26,
     "metadata": {},
     "output_type": "execute_result"
    }
   ],
   "source": [
    "scaler.fit_transform(X_train[query_ids_train == 1])"
   ]
  },
  {
   "cell_type": "code",
   "execution_count": 26,
   "id": "4d5edae7",
   "metadata": {},
   "outputs": [],
   "source": [
    "num_feats = scaled_X_train.shape[1]"
   ]
  },
  {
   "cell_type": "code",
   "execution_count": 27,
   "id": "462575ce",
   "metadata": {},
   "outputs": [],
   "source": [
    "model = ListNet(num_feats, 30)"
   ]
  },
  {
   "cell_type": "code",
   "execution_count": 28,
   "id": "ff481c4d",
   "metadata": {},
   "outputs": [
    {
     "data": {
      "text/plain": [
       "Linear(in_features=136, out_features=30, bias=True)"
      ]
     },
     "execution_count": 28,
     "metadata": {},
     "output_type": "execute_result"
    }
   ],
   "source": [
    "model.model[0]"
   ]
  },
  {
   "cell_type": "code",
   "execution_count": 136,
   "id": "86572025",
   "metadata": {},
   "outputs": [
    {
     "name": "stdout",
     "output_type": "stream",
     "text": [
      "44.51519703156818\n",
      "44.362592853806\n",
      "44.361422310050465\n",
      "44.36141970095368\n",
      "44.36142043643974\n",
      "44.36142064093061\n",
      "44.36142046404123\n",
      "44.361420283872846\n",
      "44.36142021936348\n",
      "44.36142023813642\n",
      "44.36142013571689\n",
      "44.36141967963632\n",
      "44.36141946228502\n",
      "44.36141967221082\n",
      "44.361548836064834\n",
      "44.36142570305946\n",
      "44.361419449574015\n",
      "44.36151713591236\n",
      "44.36143686646612\n",
      "44.36141970358302\n"
     ]
    }
   ],
   "source": [
    "slt = Solution()\n",
    "ndcg = slt.fit()"
   ]
  },
  {
   "cell_type": "code",
   "execution_count": 95,
   "id": "3356e684",
   "metadata": {},
   "outputs": [
    {
     "name": "stdout",
     "output_type": "stream",
     "text": [
      "59.41490664804119\n",
      "55.98594588229711\n",
      "55.15114100902588\n",
      "54.8052499867205\n",
      "54.66720719340032\n",
      "54.602868208426166\n",
      "54.5532938654952\n",
      "54.53017386360008\n",
      "54.512070408476326\n",
      "54.50202122953688\n"
     ]
    }
   ],
   "source": [
    "slt = Solution()\n",
    "ndcg = slt.fit()"
   ]
  },
  {
   "cell_type": "code",
   "execution_count": 101,
   "id": "59675093",
   "metadata": {},
   "outputs": [
    {
     "name": "stdout",
     "output_type": "stream",
     "text": [
      "56.8426117002964\n",
      "55.25518344359836\n",
      "54.918763940533005\n",
      "54.74302530699763\n",
      "54.65126907673461\n",
      "54.59346435261869\n",
      "54.54624840077655\n",
      "54.525771462005274\n",
      "54.51158265804808\n",
      "54.49835771581308\n"
     ]
    }
   ],
   "source": [
    "slt = Solution()\n",
    "ndcg = slt.fit()"
   ]
  },
  {
   "cell_type": "code",
   "execution_count": 131,
   "id": "495a20bd",
   "metadata": {},
   "outputs": [
    {
     "data": {
      "text/plain": [
       "[0.24954275394239547,\n",
       " 0.15069964409551836,\n",
       " 0.08458630363880233,\n",
       " 0.18039440060965717,\n",
       " 0.1065493718593974,\n",
       " 0.2226325341193429,\n",
       " 0.2316562063166533,\n",
       " 0.20712113733911378,\n",
       " 0.22576327942608093,\n",
       " 0.24929165612609888]"
      ]
     },
     "execution_count": 131,
     "metadata": {},
     "output_type": "execute_result"
    }
   ],
   "source": [
    "ndcg"
   ]
  },
  {
   "cell_type": "code",
   "execution_count": 137,
   "id": "61c72aef",
   "metadata": {},
   "outputs": [
    {
     "data": {
      "text/plain": [
       "[0.2158617188159207,\n",
       " 0.2620331101564013,\n",
       " 0.20208310877734964,\n",
       " 0.1973035002698783,\n",
       " 0.10771733356258748,\n",
       " 0.22949789759745312,\n",
       " 0.21834875833751125,\n",
       " 0.13115210725333204,\n",
       " 0.19694742060859094,\n",
       " 0.17601861133748156,\n",
       " 0.24427126616832207,\n",
       " 0.21280985363674434,\n",
       " 0.17869614843617787,\n",
       " 0.25245563264682214,\n",
       " 0.19216064166870306,\n",
       " 0.23919985989447345,\n",
       " 0.12716322232418778,\n",
       " 0.299408981280232,\n",
       " 0.16034921606875618,\n",
       " 0.1770966466600922]"
      ]
     },
     "execution_count": 137,
     "metadata": {},
     "output_type": "execute_result"
    }
   ],
   "source": [
    "ndcg"
   ]
  },
  {
   "cell_type": "code",
   "execution_count": null,
   "id": "c8423b76",
   "metadata": {},
   "outputs": [],
   "source": []
  }
 ],
 "metadata": {
  "kernelspec": {
   "display_name": "Python 3 (ipykernel)",
   "language": "python",
   "name": "python3"
  },
  "language_info": {
   "codemirror_mode": {
    "name": "ipython",
    "version": 3
   },
   "file_extension": ".py",
   "mimetype": "text/x-python",
   "name": "python",
   "nbconvert_exporter": "python",
   "pygments_lexer": "ipython3",
   "version": "3.9.7"
  }
 },
 "nbformat": 4,
 "nbformat_minor": 5
}
