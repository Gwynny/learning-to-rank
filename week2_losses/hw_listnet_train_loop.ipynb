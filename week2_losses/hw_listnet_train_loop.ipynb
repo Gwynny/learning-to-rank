{
 "cells": [
  {
   "cell_type": "code",
   "execution_count": 96,
   "id": "87d69670",
   "metadata": {},
   "outputs": [],
   "source": [
    "import math\n",
    "\n",
    "import numpy as np\n",
    "import torch\n",
    "from catboost.datasets import msrank_10k\n",
    "from sklearn.preprocessing import StandardScaler\n",
    "from torch import nn\n",
    "\n",
    "from typing import List\n",
    "\n",
    "\n",
    "class ListNet(torch.nn.Module):\n",
    "    def __init__(self, num_input_features: int, hidden_dim: int):\n",
    "        super().__init__()\n",
    "        self.hidden_dim = hidden_dim\n",
    "        # укажите архитектуру простой модели здесь\n",
    "        self.model = nn.Sequential(\n",
    "                        nn.Linear(num_input_features, 2*hidden_dim),\n",
    "                        nn.BatchNorm1d(2*hidden_dim),\n",
    "                        nn.ReLU(),\n",
    "                        nn.Linear(2*hidden_dim, hidden_dim),\n",
    "                        nn.BatchNorm1d(hidden_dim),\n",
    "                        nn.ReLU(),\n",
    "                        nn.Linear(hidden_dim, 1),\n",
    "        )\n",
    "        self.out_activation = nn.Sigmoid()\n",
    "\n",
    "    def forward(self, input_1: torch.Tensor) -> torch.Tensor:\n",
    "        logits = self.model(input_1)\n",
    "        return logits\n",
    "\n",
    "\n",
    "class Solution:\n",
    "    def __init__(self, n_epochs: int = 5, listnet_hidden_dim: int = 30,\n",
    "                 lr: float = 0.001, ndcg_top_k: int = 10):\n",
    "        self._prepare_data()\n",
    "        self.num_input_features = self.scaled_X_train.shape[1]\n",
    "        self.ndcg_top_k = ndcg_top_k\n",
    "        self.n_epochs = n_epochs\n",
    "\n",
    "        self.model = self._create_model(\n",
    "            self.num_input_features, listnet_hidden_dim\n",
    "        )\n",
    "        self.optimizer = torch.optim.Adam(self.model.parameters(), lr=lr)\n",
    "\n",
    "    def _get_data(self) -> List[np.ndarray]:\n",
    "        train_df, test_df = msrank_10k()\n",
    "\n",
    "        X_train = train_df.drop([0, 1], axis=1).values\n",
    "        y_train = train_df[0].values\n",
    "        query_ids_train = train_df[1].values.astype(int)\n",
    "\n",
    "        X_test = test_df.drop([0, 1], axis=1).values\n",
    "        y_test = test_df[0].values\n",
    "        query_ids_test = test_df[1].values.astype(int)\n",
    "\n",
    "        return [X_train, y_train, query_ids_train, X_test, y_test, query_ids_test]\n",
    "\n",
    "    def _prepare_data(self) -> None:\n",
    "        (X_train, y_train, self.query_ids_train,\n",
    "            X_test, y_test, self.query_ids_test) = self._get_data()\n",
    "        \n",
    "        scaled_X_train = self._scale_features_in_query_groups(\n",
    "                                X_train, self.query_ids_train\n",
    "                        )\n",
    "        scaled_X_test = self._scale_features_in_query_groups(\n",
    "                                X_test, self.query_ids_test\n",
    "                        )\n",
    "        \n",
    "        self.scaled_X_train = torch.from_numpy(scaled_X_train)\n",
    "        self.y_train = torch.from_numpy(y_train)\n",
    "        self.scaled_X_test = torch.from_numpy(scaled_X_test)\n",
    "        self.y_test = torch.from_numpy(y_test)\n",
    "\n",
    "    def _scale_features_in_query_groups(self, inp_feat_array: np.ndarray,\n",
    "                                        inp_query_ids: np.ndarray) -> np.ndarray:\n",
    "        scaler = StandardScaler()\n",
    "        scaled_arrays = []\n",
    "        for query_id in np.unique(inp_query_ids):\n",
    "            scaled_part = scaler.fit_transform(inp_feat_array[inp_query_ids == query_id])\n",
    "            scaled_arrays.append(scaled_part)\n",
    "        scaled_X = np.concatenate(scaled_arrays, axis=0)\n",
    "        return scaled_X\n",
    "\n",
    "    def _create_model(self, listnet_num_input_features: int,\n",
    "                      listnet_hidden_dim: int) -> torch.nn.Module:\n",
    "        torch.manual_seed(0)\n",
    "        net = ListNet(\n",
    "            listnet_num_input_features,\n",
    "            listnet_hidden_dim\n",
    "        )\n",
    "        return net\n",
    "\n",
    "    def fit(self) -> List[float]:\n",
    "        val_ndcgs = []\n",
    "        for _ in range(self.n_epochs):\n",
    "            self._train_one_epoch()\n",
    "            val_ndcgs.append(self._eval_test_set())\n",
    "        return val_ndcgs\n",
    "\n",
    "    def _calc_loss(self, batch_ys: torch.FloatTensor,\n",
    "                   batch_pred: torch.FloatTensor) -> torch.FloatTensor:\n",
    "        P_y_i = torch.softmax(batch_ys, dim=0)\n",
    "        P_z_i = torch.softmax(batch_pred, dim=0)\n",
    "        return -torch.sum(P_y_i * torch.log(P_z_i))\n",
    "\n",
    "    def _train_one_epoch(self) -> None:\n",
    "        self.model.train()\n",
    "        # допишите ваш код здесь\n",
    "        np.random.shuffle(self.query_ids_train)\n",
    "        \n",
    "        for query_id in self.query_ids_train:\n",
    "            self.optimizer.zero_grad()\n",
    "            batch_X = self.scaled_X_train[self.query_ids_train == query_id].to(torch.float32)\n",
    "            batch_y = self.y_train[self.query_ids_train == query_id]\n",
    "            preds = self.model(batch_X)\n",
    "            loss = self._calc_loss(batch_y, preds)\n",
    "            loss.backward()\n",
    "            self.optimizer.step()\n",
    "        \n",
    "\n",
    "    def _eval_test_set(self) -> float:\n",
    "        with torch.no_grad():\n",
    "            self.model.eval()\n",
    "            ndcgs = []\n",
    "            for query_id in self.query_ids_test:\n",
    "                batch_X = self.scaled_X_test[self.query_ids_test == query_id].to(torch.float32)\n",
    "                batch_y = self.y_test[self.query_ids_test == query_id]\n",
    "                y_pred = self.model(batch_X)\n",
    "                group_dcg = self._ndcg_k(batch_y, y_pred, self.ndcg_top_k).item()\n",
    "                ndcgs.append(group_dcg)\n",
    "            return np.mean(ndcgs)\n",
    "\n",
    "    def _dcg(self, ys_true: torch.Tensor, ys_pred: torch.Tensor,\n",
    "             k: int) -> float:\n",
    "        ys_pred, indices = torch.sort(ys_pred, descending=True)\n",
    "        ys_true = ys_true[indices]\n",
    "\n",
    "        sum_dcg = i = 0\n",
    "        k = min(len(ys_true), k)\n",
    "        while i < k:\n",
    "            sum_dcg += (2**ys_true[i] - 1) / math.log2(i + 2)\n",
    "            i += 1\n",
    "        return sum_dcg\n",
    "\n",
    "    def _ndcg_k(self, ys_true: torch.Tensor, ys_pred: torch.Tensor,\n",
    "                ndcg_top_k: int) -> float:\n",
    "        case_dcg = self._dcg(ys_true, ys_pred, ndcg_top_k)\n",
    "        ideal_dcg = self._dcg(ys_true, ys_true, ndcg_top_k)\n",
    "        return case_dcg / ideal_dcg"
   ]
  },
  {
   "cell_type": "code",
   "execution_count": 2,
   "id": "6fe94d3d",
   "metadata": {},
   "outputs": [],
   "source": [
    "train_df, test_df = msrank_10k()\n",
    "X_train = train_df.drop([0, 1], axis=1).values\n",
    "y_train = train_df[0].values\n",
    "query_ids_train = train_df[1].values.astype(int)\n",
    "\n",
    "X_test = test_df.drop([0, 1], axis=1).values\n",
    "y_test = test_df[0].values\n",
    "query_ids_test = test_df[1].values.astype(int)"
   ]
  },
  {
   "cell_type": "code",
   "execution_count": 61,
   "id": "4e9667e0",
   "metadata": {},
   "outputs": [
    {
     "data": {
      "text/plain": [
       "numpy.ndarray"
      ]
     },
     "execution_count": 61,
     "metadata": {},
     "output_type": "execute_result"
    }
   ],
   "source": [
    "type(query_ids_train)"
   ]
  },
  {
   "cell_type": "code",
   "execution_count": 58,
   "id": "32899998",
   "metadata": {
    "scrolled": false
   },
   "outputs": [
    {
     "data": {
      "text/plain": [
       "87"
      ]
     },
     "execution_count": 58,
     "metadata": {},
     "output_type": "execute_result"
    }
   ],
   "source": [
    "len(np.unique(query_ids_train))"
   ]
  },
  {
   "cell_type": "code",
   "execution_count": 9,
   "id": "a40e37c9",
   "metadata": {},
   "outputs": [
    {
     "data": {
      "text/plain": [
       "array([  13,   28,   43,   58,   73,   88,  103,  118,  133,  148,  163,\n",
       "        178,  193,  208,  223,  238,  253,  268,  283,  298,  313,  328,\n",
       "        343,  358,  373,  388,  403,  418,  433,  448,  463,  478,  493,\n",
       "        508,  523,  538,  553,  568,  583,  598,  613,  628,  643,  658,\n",
       "        673,  688,  703,  718,  733,  748,  763,  778,  793,  808,  823,\n",
       "        838,  853,  868,  883,  898,  913,  928,  943,  958,  973,  988,\n",
       "       1003, 1018, 1033, 1048, 1063, 1078, 1093, 1108, 1123, 1138, 1153,\n",
       "       1168, 1183, 1198, 1213, 1228, 1243, 1258, 1273, 1288, 1303, 1318])"
      ]
     },
     "execution_count": 9,
     "metadata": {},
     "output_type": "execute_result"
    }
   ],
   "source": [
    "np.unique(query_ids_test)"
   ]
  },
  {
   "cell_type": "code",
   "execution_count": 21,
   "id": "8909846e",
   "metadata": {},
   "outputs": [
    {
     "data": {
      "text/plain": [
       "array([[ 3. ,  3. ,  0. , ...,  0. ,  0. ,  0. ],\n",
       "       [ 3. ,  0. ,  3. , ...,  0. ,  0. ,  0. ],\n",
       "       [ 3. ,  0. ,  2. , ...,  0. ,  0. ,  0. ],\n",
       "       ...,\n",
       "       [ 3. ,  3. ,  3. , ...,  0. ,  0. ,  0. ],\n",
       "       [ 2. ,  0. ,  2. , ...,  0. , 20. , 42.6],\n",
       "       [ 3. ,  0. ,  3. , ...,  0. ,  0. ,  0. ]])"
      ]
     },
     "execution_count": 21,
     "metadata": {},
     "output_type": "execute_result"
    }
   ],
   "source": [
    "X_train[query_ids_train == 1]"
   ]
  },
  {
   "cell_type": "code",
   "execution_count": 27,
   "id": "49dc12a9",
   "metadata": {},
   "outputs": [
    {
     "data": {
      "text/plain": [
       "(10000, 136)"
      ]
     },
     "execution_count": 27,
     "metadata": {},
     "output_type": "execute_result"
    }
   ],
   "source": [
    "X_train.shape"
   ]
  },
  {
   "cell_type": "code",
   "execution_count": 25,
   "id": "e3878ef8",
   "metadata": {},
   "outputs": [],
   "source": [
    "scaler = StandardScaler()"
   ]
  },
  {
   "cell_type": "code",
   "execution_count": 47,
   "id": "2f8a53ee",
   "metadata": {},
   "outputs": [],
   "source": [
    "scaled_arrays = []\n",
    "for query_id in np.unique(query_ids_train):\n",
    "    scaled_part = scaler.fit_transform(X_train[query_ids_train == query_id])\n",
    "    scaled_arrays.append(scaled_part)\n",
    "scaled_X_train = np.concatenate(scaled_arrays, axis=0)"
   ]
  },
  {
   "cell_type": "code",
   "execution_count": 48,
   "id": "a4db7796",
   "metadata": {
    "scrolled": false
   },
   "outputs": [
    {
     "data": {
      "text/plain": [
       "(10000, 136)"
      ]
     },
     "execution_count": 48,
     "metadata": {},
     "output_type": "execute_result"
    }
   ],
   "source": [
    "scaled_X_train.shape"
   ]
  },
  {
   "cell_type": "code",
   "execution_count": 26,
   "id": "648f7caf",
   "metadata": {
    "scrolled": true
   },
   "outputs": [
    {
     "data": {
      "text/plain": [
       "array([[ 0.31606376,  4.81705177, -2.17593133, ..., -0.11175774,\n",
       "        -0.19593518, -0.26622504],\n",
       "       [ 0.31606376, -0.23497813,  0.61705515, ..., -0.11175774,\n",
       "        -0.19593518, -0.26622504],\n",
       "       [ 0.31606376, -0.23497813, -0.31394034, ..., -0.11175774,\n",
       "        -0.19593518, -0.26622504],\n",
       "       ...,\n",
       "       [ 0.31606376,  4.81705177,  0.61705515, ..., -0.11175774,\n",
       "        -0.19593518, -0.26622504],\n",
       "       [-1.28284703, -0.23497813, -0.31394034, ..., -0.11175774,\n",
       "        -0.07383065,  1.91992331],\n",
       "       [ 0.31606376, -0.23497813,  0.61705515, ..., -0.11175774,\n",
       "        -0.19593518, -0.26622504]])"
      ]
     },
     "execution_count": 26,
     "metadata": {},
     "output_type": "execute_result"
    }
   ],
   "source": [
    "scaler.fit_transform(X_train[query_ids_train == 1])"
   ]
  },
  {
   "cell_type": "code",
   "execution_count": 82,
   "id": "c9eb71f3",
   "metadata": {},
   "outputs": [],
   "source": [
    "num_feats = scaled_X_train.shape[1]"
   ]
  },
  {
   "cell_type": "code",
   "execution_count": 83,
   "id": "414882a5",
   "metadata": {},
   "outputs": [],
   "source": [
    "model = ListNet(num_feats, 30)"
   ]
  },
  {
   "cell_type": "code",
   "execution_count": 85,
   "id": "9e721c90",
   "metadata": {},
   "outputs": [
    {
     "data": {
      "text/plain": [
       "Linear(in_features=136, out_features=60, bias=True)"
      ]
     },
     "execution_count": 85,
     "metadata": {},
     "output_type": "execute_result"
    }
   ],
   "source": [
    "model.model[0]"
   ]
  },
  {
   "cell_type": "code",
   "execution_count": 97,
   "id": "1de44971",
   "metadata": {},
   "outputs": [
    {
     "name": "stdout",
     "output_type": "stream",
     "text": [
      "<class 'float'>\n",
      "<class 'float'>\n",
      "<class 'float'>\n",
      "<class 'float'>\n",
      "<class 'float'>\n"
     ]
    }
   ],
   "source": [
    "slt = Solution()\n",
    "ndcg = slt.fit()"
   ]
  },
  {
   "cell_type": "code",
   "execution_count": 98,
   "id": "c3764519",
   "metadata": {},
   "outputs": [
    {
     "data": {
      "text/plain": [
       "[0.13444121040412244,\n",
       " 0.13444121040412244,\n",
       " 0.13444121040412244,\n",
       " 0.13444121040412244,\n",
       " 0.13444121040412244]"
      ]
     },
     "execution_count": 98,
     "metadata": {},
     "output_type": "execute_result"
    }
   ],
   "source": [
    "ndcg"
   ]
  },
  {
   "cell_type": "code",
   "execution_count": null,
   "id": "22c915c5",
   "metadata": {},
   "outputs": [],
   "source": []
  }
 ],
 "metadata": {
  "kernelspec": {
   "display_name": "Python 3 (ipykernel)",
   "language": "python",
   "name": "python3"
  },
  "language_info": {
   "codemirror_mode": {
    "name": "ipython",
    "version": 3
   },
   "file_extension": ".py",
   "mimetype": "text/x-python",
   "name": "python",
   "nbconvert_exporter": "python",
   "pygments_lexer": "ipython3",
   "version": "3.9.7"
  }
 },
 "nbformat": 4,
 "nbformat_minor": 5
}
